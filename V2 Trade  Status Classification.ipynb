{
 "cells": [
  {
   "cell_type": "markdown",
   "id": "ae8e9657",
   "metadata": {},
   "source": [
    "### Import Libraries "
   ]
  },
  {
   "cell_type": "code",
   "execution_count": 1,
   "id": "d98cbd8a",
   "metadata": {
    "ExecuteTime": {
     "end_time": "2024-04-06T15:19:58.051073Z",
     "start_time": "2024-04-06T15:19:56.379865Z"
    }
   },
   "outputs": [
    {
     "data": {
      "text/html": [
       "<style>.container { width:100% !important; }</style>"
      ],
      "text/plain": [
       "<IPython.core.display.HTML object>"
      ]
     },
     "metadata": {},
     "output_type": "display_data"
    }
   ],
   "source": [
    "import pandas as pd \n",
    "from Standardization import metric_normalizer\n",
    "\n",
    "from matplotlib import pyplot as plt \n",
    "\n",
    "from sklearn.compose import make_column_transformer\n",
    "\n",
    "from sklearn.preprocessing import StandardScaler, Normalizer, MinMaxScaler\n",
    "\n",
    "from sklearn.preprocessing import OneHotEncoder, OrdinalEncoder\n",
    "\n",
    "from sklearn.linear_model import LogisticRegression\n",
    "from sklearn.model_selection import train_test_split\n",
    "from sklearn.metrics import confusion_matrix\n",
    "from sklearn.metrics import accuracy_score, classification_report  # Import accuracy_score\n",
    "from sklearn.tree import DecisionTreeClassifier\n",
    "from sklearn.ensemble import RandomForestClassifier\n",
    "from sklearn.model_selection import cross_val_score\n",
    "from sklearn.ensemble import GradientBoostingClassifier\n",
    "from sklearn.ensemble import BaggingClassifier\n",
    "\n",
    "#formats\n",
    "from IPython.display import display, HTML\n",
    "pd.set_option('display.max_columns', None)\n",
    "display(HTML(\"<style>.container { width:100% !important; }</style>\"))\n",
    "\n",
    "\n",
    "import numpy as np\n",
    "from sklearn.compose import make_column_transformer\n",
    "from sklearn.preprocessing import OneHotEncoder, OrdinalEncoder\n",
    "from sklearn.preprocessing import StandardScaler, Normalizer, MinMaxScaler\n",
    "from sklearn.decomposition import PCA \n",
    "from sklearn.pipeline import Pipeline \n",
    "from sklearn.ensemble import RandomForestRegressor\n",
    "from sklearn.metrics import mean_absolute_error\n",
    "from sklearn.feature_selection import SelectKBest, chi2\n",
    "\n",
    "from sklearn.compose import ColumnTransformer\n",
    "from sklearn.pipeline import Pipeline\n",
    "from sklearn.preprocessing import MinMaxScaler, OneHotEncoder, OrdinalEncoder\n",
    "from sklearn.feature_selection import SelectPercentile, mutual_info_classif\n",
    "from sklearn.ensemble import RandomForestClassifier\n",
    "from sklearn.impute import SimpleImputer\n"
   ]
  },
  {
   "cell_type": "markdown",
   "id": "60c529ee",
   "metadata": {},
   "source": [
    "### Import Dataset"
   ]
  },
  {
   "cell_type": "code",
   "execution_count": 2,
   "id": "b9702d08",
   "metadata": {
    "ExecuteTime": {
     "end_time": "2024-04-06T15:19:58.086803Z",
     "start_time": "2024-04-06T15:19:58.056561Z"
    }
   },
   "outputs": [],
   "source": [
    "df = pd.read_csv('/home/clivence/base_jupyter/Datadump/Model_Data/GU_Model_Data_V1_16k')\n",
    "\n",
    "# df.head(50)\n",
    "# df.columns"
   ]
  },
  {
   "cell_type": "markdown",
   "id": "0d8f7a4c",
   "metadata": {},
   "source": [
    "### Data Cleaning"
   ]
  },
  {
   "cell_type": "code",
   "execution_count": 3,
   "id": "0cab67ed",
   "metadata": {
    "ExecuteTime": {
     "end_time": "2024-04-06T15:19:58.327288Z",
     "start_time": "2024-04-06T15:19:58.090283Z"
    }
   },
   "outputs": [],
   "source": [
    "#Filter out negative values - evetually need to research why this is happening \n",
    "df  = df[(df['2D Low in Pips'] > 0) | (df['2D Low in Pips'] > 0)] \n",
    "\n",
    "df = df[df['Action'] == 'Ultimate Action']\n",
    "df = df[df['Ticker'] == 'GBP/USD']\n",
    "\n",
    "df.fillna(0, inplace=True)\n",
    "\n",
    "#Standardize the dataset\n",
    "df =  metric_normalizer(df)\n",
    "\n",
    "#Set date to datetime \n",
    "df['Date'] = pd.to_datetime(df['Date'])\n",
    "\n",
    "#Create Date Derived Features \n",
    "df['Trade_Week_Year'] = df['Date'].dt.isocalendar().week\n",
    "df['Trade_Week_Month'] = (df['Date'].dt.day -1)//7+1\n",
    "df['Trade_Day_Week'] = df['Date'].dt.weekday + 1\n",
    "\n",
    "#Create a new feature to identify the status of the previous trade \n",
    "df['Previous_Trade_Status'] = df['2D Trade Status'].shift(fill_value=0)\n"
   ]
  },
  {
   "cell_type": "code",
   "execution_count": null,
   "id": "f24b3001",
   "metadata": {
    "ExecuteTime": {
     "end_time": "2024-04-06T13:41:01.359982Z",
     "start_time": "2024-04-06T13:41:01.343735Z"
    }
   },
   "outputs": [],
   "source": []
  },
  {
   "cell_type": "markdown",
   "id": "d02cf35d",
   "metadata": {
    "ExecuteTime": {
     "end_time": "2024-01-20T20:41:50.452097Z",
     "start_time": "2024-01-20T20:41:50.416223Z"
    }
   },
   "source": [
    "### Data Preprocessing "
   ]
  },
  {
   "cell_type": "code",
   "execution_count": 4,
   "id": "e98da383",
   "metadata": {
    "ExecuteTime": {
     "end_time": "2024-04-06T15:19:58.360942Z",
     "start_time": "2024-04-06T15:19:58.333614Z"
    },
    "scrolled": true
   },
   "outputs": [
    {
     "name": "stdout",
     "output_type": "stream",
     "text": [
      "Training Set: (384, 92)        \n",
      "Test Set: (99, 92)\n"
     ]
    }
   ],
   "source": [
    "#Subset Selection\n",
    "X= df[['open', 'high', 'low', 'close', 'volume','Trade_Week_Year','Trade_Week_Month','Trade_Day_Week',\n",
    "       'Day','Month','25EMA', '50EMA', '75EMA','100EMA', '125EMA',\n",
    "        'Trend Status', 'Spread','5075 Trend Status', '75100 Trend Status',\n",
    "       '100125 Trend Status', 'Order Type', \n",
    "        '%K', '%D', 'k_group', 'ADX', 'ADXR', 'slowk','slowd','CDL2CROWS', 'CDL3BLACKCROWS',\n",
    "        'CDL3INSIDE', 'CDL3LINESTRIKE', 'CDL3OUTSIDE',\n",
    "        'CDL3STARSINSOUTH', 'CDL3WHITESOLDIERS', 'CDLABANDONEDBABY', 'CDLADVANCEBLOCK',\n",
    "        'CDLBELTHOLD', 'CDLBREAKAWAY', 'CDLCLOSINGMARUBOZU', 'CDLCONCEALBABYSWALL',\n",
    "        'CDLCOUNTERATTACK', 'CDLDARKCLOUDCOVER', 'CDLDOJI', 'CDLDOJISTAR', 'CDLDRAGONFLYDOJI',\n",
    "        'CDLENGULFING', 'CDLEVENINGDOJISTAR', 'CDLEVENINGSTAR', 'CDLGAPSIDESIDEWHITE',\n",
    "        'CDLGRAVESTONEDOJI', 'CDLHAMMER', 'CDLHANGINGMAN', 'CDLHARAMI', 'CDLHARAMICROSS',\n",
    "        'CDLHIGHWAVE', 'CDLHIKKAKE', 'CDLHIKKAKEMOD', 'CDLHOMINGPIGEON', 'CDLIDENTICAL3CROWS',\n",
    "        'CDLINNECK', 'CDLINVERTEDHAMMER', 'CDLKICKING', 'CDLKICKINGBYLENGTH', 'CDLLADDERBOTTOM',\n",
    "        'CDLLONGLEGGEDDOJI', 'CDLLONGLINE', 'CDLMARUBOZU', 'CDLMATCHINGLOW', 'CDLMATHOLD',\n",
    "        'CDLMORNINGDOJISTAR', 'CDLMORNINGSTAR', 'CDLONNECK', 'CDLPIERCING', 'CDLRICKSHAWMAN',\n",
    "        'CDLRISEFALL3METHODS', 'CDLSEPARATINGLINES', 'CDLSHOOTINGSTAR', 'CDLSHORTLINE',\n",
    "        'CDLSPINNINGTOP', 'CDLSTALLEDPATTERN', 'CDLSTICKSANDWICH', 'CDLTAKURI', 'CDLTASUKIGAP',\n",
    "        'CDLTHRUSTING', 'CDLTRISTAR', 'CDLUNIQUE3RIVER', 'CDLUPSIDEGAP2CROWS', 'CDLXSIDEGAP3METHODS',\n",
    "        'candle_bullish_score','candle_bearish_score','Previous_Trade_Status']]\n",
    "Y = df['2D Trade Status']\n",
    "\n",
    "\n",
    "#Create a list of columns to encode \n",
    "cat_cols_to_encode = ['Order Type']\n",
    "#Create a list of cols for ordinal encoding \n",
    "cat_cols_for_ordinal_encoding = ['Trend Status','5075 Trend Status', '75100 Trend Status',\n",
    "                    '100125 Trend Status','k_group']\n",
    "\n",
    "#Create a list of cols to scale \n",
    "num_cols_to_scale = ['volume']\n",
    "\n",
    "# #View row, cols count\n",
    "# df.shape ,  X.shape, Y.shape\n",
    "\n",
    " #Split the data into training and test set \n",
    "X_train, X_test, y_train, y_test = train_test_split( X, Y, test_size=.204, random_state=42, stratify=X['Order Type'])\n",
    "\n",
    "print(f\"Training Set: {X_train.shape}\\\n",
    "        \\nTest Set: {X_test.shape}\")"
   ]
  },
  {
   "cell_type": "code",
   "execution_count": 5,
   "id": "9585648b",
   "metadata": {
    "ExecuteTime": {
     "end_time": "2024-04-06T15:19:58.449300Z",
     "start_time": "2024-04-06T15:19:58.364905Z"
    }
   },
   "outputs": [
    {
     "data": {
      "text/html": [
       "<style>#sk-container-id-1 {color: black;}#sk-container-id-1 pre{padding: 0;}#sk-container-id-1 div.sk-toggleable {background-color: white;}#sk-container-id-1 label.sk-toggleable__label {cursor: pointer;display: block;width: 100%;margin-bottom: 0;padding: 0.3em;box-sizing: border-box;text-align: center;}#sk-container-id-1 label.sk-toggleable__label-arrow:before {content: \"▸\";float: left;margin-right: 0.25em;color: #696969;}#sk-container-id-1 label.sk-toggleable__label-arrow:hover:before {color: black;}#sk-container-id-1 div.sk-estimator:hover label.sk-toggleable__label-arrow:before {color: black;}#sk-container-id-1 div.sk-toggleable__content {max-height: 0;max-width: 0;overflow: hidden;text-align: left;background-color: #f0f8ff;}#sk-container-id-1 div.sk-toggleable__content pre {margin: 0.2em;color: black;border-radius: 0.25em;background-color: #f0f8ff;}#sk-container-id-1 input.sk-toggleable__control:checked~div.sk-toggleable__content {max-height: 200px;max-width: 100%;overflow: auto;}#sk-container-id-1 input.sk-toggleable__control:checked~label.sk-toggleable__label-arrow:before {content: \"▾\";}#sk-container-id-1 div.sk-estimator input.sk-toggleable__control:checked~label.sk-toggleable__label {background-color: #d4ebff;}#sk-container-id-1 div.sk-label input.sk-toggleable__control:checked~label.sk-toggleable__label {background-color: #d4ebff;}#sk-container-id-1 input.sk-hidden--visually {border: 0;clip: rect(1px 1px 1px 1px);clip: rect(1px, 1px, 1px, 1px);height: 1px;margin: -1px;overflow: hidden;padding: 0;position: absolute;width: 1px;}#sk-container-id-1 div.sk-estimator {font-family: monospace;background-color: #f0f8ff;border: 1px dotted black;border-radius: 0.25em;box-sizing: border-box;margin-bottom: 0.5em;}#sk-container-id-1 div.sk-estimator:hover {background-color: #d4ebff;}#sk-container-id-1 div.sk-parallel-item::after {content: \"\";width: 100%;border-bottom: 1px solid gray;flex-grow: 1;}#sk-container-id-1 div.sk-label:hover label.sk-toggleable__label {background-color: #d4ebff;}#sk-container-id-1 div.sk-serial::before {content: \"\";position: absolute;border-left: 1px solid gray;box-sizing: border-box;top: 0;bottom: 0;left: 50%;z-index: 0;}#sk-container-id-1 div.sk-serial {display: flex;flex-direction: column;align-items: center;background-color: white;padding-right: 0.2em;padding-left: 0.2em;position: relative;}#sk-container-id-1 div.sk-item {position: relative;z-index: 1;}#sk-container-id-1 div.sk-parallel {display: flex;align-items: stretch;justify-content: center;background-color: white;position: relative;}#sk-container-id-1 div.sk-item::before, #sk-container-id-1 div.sk-parallel-item::before {content: \"\";position: absolute;border-left: 1px solid gray;box-sizing: border-box;top: 0;bottom: 0;left: 50%;z-index: -1;}#sk-container-id-1 div.sk-parallel-item {display: flex;flex-direction: column;z-index: 1;position: relative;background-color: white;}#sk-container-id-1 div.sk-parallel-item:first-child::after {align-self: flex-end;width: 50%;}#sk-container-id-1 div.sk-parallel-item:last-child::after {align-self: flex-start;width: 50%;}#sk-container-id-1 div.sk-parallel-item:only-child::after {width: 0;}#sk-container-id-1 div.sk-dashed-wrapped {border: 1px dashed gray;margin: 0 0.4em 0.5em 0.4em;box-sizing: border-box;padding-bottom: 0.4em;background-color: white;}#sk-container-id-1 div.sk-label label {font-family: monospace;font-weight: bold;display: inline-block;line-height: 1.2em;}#sk-container-id-1 div.sk-label-container {text-align: center;}#sk-container-id-1 div.sk-container {/* jupyter's `normalize.less` sets `[hidden] { display: none; }` but bootstrap.min.css set `[hidden] { display: none !important; }` so we also need the `!important` here to be able to override the default hidden behavior on the sphinx rendered scikit-learn.org. See: https://github.com/scikit-learn/scikit-learn/issues/21755 */display: inline-block !important;position: relative;}#sk-container-id-1 div.sk-text-repr-fallback {display: none;}</style><div id=\"sk-container-id-1\" class=\"sk-top-container\"><div class=\"sk-text-repr-fallback\"><pre>ColumnTransformer(remainder=&#x27;passthrough&#x27;,\n",
       "                  transformers=[(&#x27;num&#x27;,\n",
       "                                 Pipeline(steps=[(&#x27;imputer&#x27;,\n",
       "                                                  SimpleImputer(strategy=&#x27;median&#x27;)),\n",
       "                                                 (&#x27;scaler&#x27;, MinMaxScaler())]),\n",
       "                                 [&#x27;volume&#x27;]),\n",
       "                                (&#x27;cat_onehot&#x27;,\n",
       "                                 OneHotEncoder(drop=&#x27;first&#x27;,\n",
       "                                               sparse_output=False),\n",
       "                                 [&#x27;Order Type&#x27;]),\n",
       "                                (&#x27;cat_ordinal&#x27;, OrdinalEncoder(),\n",
       "                                 [&#x27;Trend Status&#x27;, &#x27;5075 Trend Status&#x27;,\n",
       "                                  &#x27;75100 Trend Status&#x27;, &#x27;100125 Trend Status&#x27;,\n",
       "                                  &#x27;k_group&#x27;])])</pre><b>In a Jupyter environment, please rerun this cell to show the HTML representation or trust the notebook. <br />On GitHub, the HTML representation is unable to render, please try loading this page with nbviewer.org.</b></div><div class=\"sk-container\" hidden><div class=\"sk-item sk-dashed-wrapped\"><div class=\"sk-label-container\"><div class=\"sk-label sk-toggleable\"><input class=\"sk-toggleable__control sk-hidden--visually\" id=\"sk-estimator-id-1\" type=\"checkbox\" ><label for=\"sk-estimator-id-1\" class=\"sk-toggleable__label sk-toggleable__label-arrow\">ColumnTransformer</label><div class=\"sk-toggleable__content\"><pre>ColumnTransformer(remainder=&#x27;passthrough&#x27;,\n",
       "                  transformers=[(&#x27;num&#x27;,\n",
       "                                 Pipeline(steps=[(&#x27;imputer&#x27;,\n",
       "                                                  SimpleImputer(strategy=&#x27;median&#x27;)),\n",
       "                                                 (&#x27;scaler&#x27;, MinMaxScaler())]),\n",
       "                                 [&#x27;volume&#x27;]),\n",
       "                                (&#x27;cat_onehot&#x27;,\n",
       "                                 OneHotEncoder(drop=&#x27;first&#x27;,\n",
       "                                               sparse_output=False),\n",
       "                                 [&#x27;Order Type&#x27;]),\n",
       "                                (&#x27;cat_ordinal&#x27;, OrdinalEncoder(),\n",
       "                                 [&#x27;Trend Status&#x27;, &#x27;5075 Trend Status&#x27;,\n",
       "                                  &#x27;75100 Trend Status&#x27;, &#x27;100125 Trend Status&#x27;,\n",
       "                                  &#x27;k_group&#x27;])])</pre></div></div></div><div class=\"sk-parallel\"><div class=\"sk-parallel-item\"><div class=\"sk-item\"><div class=\"sk-label-container\"><div class=\"sk-label sk-toggleable\"><input class=\"sk-toggleable__control sk-hidden--visually\" id=\"sk-estimator-id-2\" type=\"checkbox\" ><label for=\"sk-estimator-id-2\" class=\"sk-toggleable__label sk-toggleable__label-arrow\">num</label><div class=\"sk-toggleable__content\"><pre>[&#x27;volume&#x27;]</pre></div></div></div><div class=\"sk-serial\"><div class=\"sk-item\"><div class=\"sk-serial\"><div class=\"sk-item\"><div class=\"sk-estimator sk-toggleable\"><input class=\"sk-toggleable__control sk-hidden--visually\" id=\"sk-estimator-id-3\" type=\"checkbox\" ><label for=\"sk-estimator-id-3\" class=\"sk-toggleable__label sk-toggleable__label-arrow\">SimpleImputer</label><div class=\"sk-toggleable__content\"><pre>SimpleImputer(strategy=&#x27;median&#x27;)</pre></div></div></div><div class=\"sk-item\"><div class=\"sk-estimator sk-toggleable\"><input class=\"sk-toggleable__control sk-hidden--visually\" id=\"sk-estimator-id-4\" type=\"checkbox\" ><label for=\"sk-estimator-id-4\" class=\"sk-toggleable__label sk-toggleable__label-arrow\">MinMaxScaler</label><div class=\"sk-toggleable__content\"><pre>MinMaxScaler()</pre></div></div></div></div></div></div></div></div><div class=\"sk-parallel-item\"><div class=\"sk-item\"><div class=\"sk-label-container\"><div class=\"sk-label sk-toggleable\"><input class=\"sk-toggleable__control sk-hidden--visually\" id=\"sk-estimator-id-5\" type=\"checkbox\" ><label for=\"sk-estimator-id-5\" class=\"sk-toggleable__label sk-toggleable__label-arrow\">cat_onehot</label><div class=\"sk-toggleable__content\"><pre>[&#x27;Order Type&#x27;]</pre></div></div></div><div class=\"sk-serial\"><div class=\"sk-item\"><div class=\"sk-estimator sk-toggleable\"><input class=\"sk-toggleable__control sk-hidden--visually\" id=\"sk-estimator-id-6\" type=\"checkbox\" ><label for=\"sk-estimator-id-6\" class=\"sk-toggleable__label sk-toggleable__label-arrow\">OneHotEncoder</label><div class=\"sk-toggleable__content\"><pre>OneHotEncoder(drop=&#x27;first&#x27;, sparse_output=False)</pre></div></div></div></div></div></div><div class=\"sk-parallel-item\"><div class=\"sk-item\"><div class=\"sk-label-container\"><div class=\"sk-label sk-toggleable\"><input class=\"sk-toggleable__control sk-hidden--visually\" id=\"sk-estimator-id-7\" type=\"checkbox\" ><label for=\"sk-estimator-id-7\" class=\"sk-toggleable__label sk-toggleable__label-arrow\">cat_ordinal</label><div class=\"sk-toggleable__content\"><pre>[&#x27;Trend Status&#x27;, &#x27;5075 Trend Status&#x27;, &#x27;75100 Trend Status&#x27;, &#x27;100125 Trend Status&#x27;, &#x27;k_group&#x27;]</pre></div></div></div><div class=\"sk-serial\"><div class=\"sk-item\"><div class=\"sk-estimator sk-toggleable\"><input class=\"sk-toggleable__control sk-hidden--visually\" id=\"sk-estimator-id-8\" type=\"checkbox\" ><label for=\"sk-estimator-id-8\" class=\"sk-toggleable__label sk-toggleable__label-arrow\">OrdinalEncoder</label><div class=\"sk-toggleable__content\"><pre>OrdinalEncoder()</pre></div></div></div></div></div></div><div class=\"sk-parallel-item\"><div class=\"sk-item\"><div class=\"sk-label-container\"><div class=\"sk-label sk-toggleable\"><input class=\"sk-toggleable__control sk-hidden--visually\" id=\"sk-estimator-id-9\" type=\"checkbox\" ><label for=\"sk-estimator-id-9\" class=\"sk-toggleable__label sk-toggleable__label-arrow\">remainder</label><div class=\"sk-toggleable__content\"><pre></pre></div></div></div><div class=\"sk-serial\"><div class=\"sk-item\"><div class=\"sk-estimator sk-toggleable\"><input class=\"sk-toggleable__control sk-hidden--visually\" id=\"sk-estimator-id-10\" type=\"checkbox\" ><label for=\"sk-estimator-id-10\" class=\"sk-toggleable__label sk-toggleable__label-arrow\">passthrough</label><div class=\"sk-toggleable__content\"><pre>passthrough</pre></div></div></div></div></div></div></div></div></div></div>"
      ],
      "text/plain": [
       "ColumnTransformer(remainder='passthrough',\n",
       "                  transformers=[('num',\n",
       "                                 Pipeline(steps=[('imputer',\n",
       "                                                  SimpleImputer(strategy='median')),\n",
       "                                                 ('scaler', MinMaxScaler())]),\n",
       "                                 ['volume']),\n",
       "                                ('cat_onehot',\n",
       "                                 OneHotEncoder(drop='first',\n",
       "                                               sparse_output=False),\n",
       "                                 ['Order Type']),\n",
       "                                ('cat_ordinal', OrdinalEncoder(),\n",
       "                                 ['Trend Status', '5075 Trend Status',\n",
       "                                  '75100 Trend Status', '100125 Trend Status',\n",
       "                                  'k_group'])])"
      ]
     },
     "execution_count": 5,
     "metadata": {},
     "output_type": "execute_result"
    }
   ],
   "source": [
    "# Create Column Transformer with appropriate preprocessing for numerical and categorical data\n",
    "Preprocessor = ColumnTransformer(\n",
    "    transformers=[\n",
    "        ('num', Pipeline(steps=[\n",
    "            ('imputer', SimpleImputer(strategy='median')),  # Handle missing values\n",
    "            ('scaler', MinMaxScaler())]), num_cols_to_scale),\n",
    "        ('cat_onehot', OneHotEncoder(drop='first', sparse_output=False), cat_cols_to_encode),\n",
    "        ('cat_ordinal', OrdinalEncoder(), cat_cols_for_ordinal_encoding)\n",
    "    ],\n",
    "    remainder='passthrough')\n",
    "\n",
    "Preprocessor.set_output(transform='pandas')"
   ]
  },
  {
   "cell_type": "code",
   "execution_count": 6,
   "id": "f9cc1228",
   "metadata": {
    "ExecuteTime": {
     "end_time": "2024-04-06T15:19:58.474497Z",
     "start_time": "2024-04-06T15:19:58.455330Z"
    }
   },
   "outputs": [],
   "source": [
    "# X_train_transform = Preprocessor.fit_transform(X_train)\n",
    "\n",
    "# X_train_transform\n",
    "\n",
    "#Use mutual information for feature selection default set at 100\n",
    "Selection = SelectPercentile(mutual_info_classif, percentile=100)"
   ]
  },
  {
   "cell_type": "code",
   "execution_count": 7,
   "id": "0cb5dd87",
   "metadata": {
    "ExecuteTime": {
     "end_time": "2024-04-06T15:19:58.499655Z",
     "start_time": "2024-04-06T15:19:58.477982Z"
    }
   },
   "outputs": [],
   "source": [
    "from sklearn.metrics import accuracy_score, classification_report,ConfusionMatrixDisplay, f1_score, precision_score, recall_score"
   ]
  },
  {
   "cell_type": "code",
   "execution_count": 8,
   "id": "d32c2be5",
   "metadata": {
    "ExecuteTime": {
     "end_time": "2024-04-06T15:19:58.536721Z",
     "start_time": "2024-04-06T15:19:58.505298Z"
    }
   },
   "outputs": [],
   "source": [
    "def enhanced_metrics( predictions,test=y_test):\n",
    "    '''This function calculates and returns various evaluation metrics based on predicted values and true labels.\n",
    "    Returns:\n",
    "- output: str\n",
    "  A string containing the calculated evaluation metrics.\n",
    "\n",
    "Metrics included:\n",
    "- Accuracy: The proportion of correctly classified samples.\n",
    "- F1 Score: The harmonic mean of precision and recall, indicating overall model performance.\n",
    "- Recall: The proportion of true positive samples correctly classified.\n",
    "- Precision: The proportion of predicted positive samples that are actually positive.\n",
    "    \n",
    "'''\n",
    "    Accuracy = accuracy_score(test, predictions)\n",
    "    f_score = f1_score(test, predictions)\n",
    "    recall_ = recall_score(test, predictions)\n",
    "    precision = precision_score(test, predictions)\n",
    "    Out_put = f\"Accuracy: {(Accuracy.round(decimals=3))*100}\\n\" + \\\n",
    "            f\"F1 Score: {(f_score.round(decimals=3))*100}\\n\" + \\\n",
    "            f\"Recall: {(recall_.round(decimals=3))*100}\\n\" + \\\n",
    "            f\"Precision: {(precision.round(decimals=3))*100}\" \n",
    "    return Out_put"
   ]
  },
  {
   "cell_type": "markdown",
   "id": "d686faf5",
   "metadata": {},
   "source": [
    "### Base Models with No Parameter"
   ]
  },
  {
   "cell_type": "code",
   "execution_count": 20,
   "id": "d28d085f",
   "metadata": {
    "ExecuteTime": {
     "end_time": "2024-04-06T15:24:32.694770Z",
     "start_time": "2024-04-06T15:24:32.162986Z"
    }
   },
   "outputs": [
    {
     "name": "stdout",
     "output_type": "stream",
     "text": [
      "Accuracy: 64.60000000000001\n",
      "F1 Score: 77.10000000000001\n",
      "Recall: 75.6\n",
      "Precision: 78.7\n"
     ]
    },
    {
     "name": "stderr",
     "output_type": "stream",
     "text": [
      "/home/clivence/base_jupyter/venv/lib/python3.9/site-packages/sklearn/linear_model/_logistic.py:460: ConvergenceWarning: lbfgs failed to converge (status=1):\n",
      "STOP: TOTAL NO. of ITERATIONS REACHED LIMIT.\n",
      "\n",
      "Increase the number of iterations (max_iter) or scale the data as shown in:\n",
      "    https://scikit-learn.org/stable/modules/preprocessing.html\n",
      "Please also refer to the documentation for alternative solver options:\n",
      "    https://scikit-learn.org/stable/modules/linear_model.html#logistic-regression\n",
      "  n_iter_i = _check_optimize_result(\n"
     ]
    }
   ],
   "source": [
    "#Create PiPeline to be used in Model\n",
    "Base_LR_Model_Pipeline = Pipeline(steps=[\n",
    "    ('Preprocessor', Preprocessor),\n",
    "    ('Feature_Selection', Selection),\n",
    "    ('RF_Model',LogisticRegression())])\n",
    "\n",
    "#Fit the training data \n",
    "Base_LR_Model_Pipeline.fit(X_train, y_train)\n",
    "\n",
    "#Make Predictions on the test set \n",
    "Base_LR_Model_Predictions = Base_LR_Model_Pipeline.predict(X_test)\n",
    "\n",
    "#Store individual metrics in a variable for later use \n",
    "LR_Accuracy = (accuracy_score(y_test, Base_LR_Model_Predictions))*100\n",
    "LR_f_score = (f1_score(y_test, Base_LR_Model_Predictions))*100\n",
    "LR_recall_ = (recall_score(y_test, Base_LR_Model_Predictions))*100\n",
    "LR_precision = (precision_score(y_test, Base_LR_Model_Predictions))*100\n",
    "\n",
    "#Get Error Metrics of Random Forest Model\n",
    "LR_Model_Metrics = enhanced_metrics(y_test, Base_LR_Model_Predictions)\n",
    "\n",
    "#View Error Metric \n",
    "print(LR_Model_Metrics)"
   ]
  },
  {
   "cell_type": "code",
   "execution_count": 10,
   "id": "a97c00ec",
   "metadata": {
    "ExecuteTime": {
     "end_time": "2024-04-06T15:19:59.456689Z",
     "start_time": "2024-04-06T15:19:59.061540Z"
    }
   },
   "outputs": [
    {
     "name": "stdout",
     "output_type": "stream",
     "text": [
      "Accuracy: 75.8\n",
      "F1 Score: 86.2\n",
      "Recall: 75.8\n",
      "Precision: 100.0\n"
     ]
    }
   ],
   "source": [
    "from sklearn.svm import SVC\n",
    "from sklearn.tree import DecisionTreeClassifier\n",
    "from sklearn.ensemble import AdaBoostClassifier\n",
    "\n",
    "\n",
    "\n",
    "#Create Pipeline to be used in SVC Model\n",
    "Base_SVC_Model_Pipeline = Pipeline(steps=[\n",
    "    ('Preprocessor', Preprocessor),\n",
    "    ('Feature_Selection', Selection),\n",
    "    ('SVC_Model',SVC())])\n",
    "\n",
    "#Fit the training data \n",
    "Base_SVC_Model_Pipeline.fit(X_train, y_train)\n",
    "\n",
    "#Make Predictions on the test set \n",
    "Base_SVC_Model_Predictions = Base_SVC_Model_Pipeline.predict(X_test)\n",
    "\n",
    "#Store individual metrics in a variable for later use \n",
    "SVC_Accuracy = (accuracy_score(y_test, Base_SVC_Model_Predictions))*100\n",
    "SVC_f_score = (f1_score(y_test, Base_SVC_Model_Predictions))*100\n",
    "SVC_recall_ = (recall_score(y_test, Base_SVC_Model_Predictions))*100\n",
    "SVC_precision = (precision_score(y_test, Base_SVC_Model_Predictions))*100\n",
    "\n",
    "#Get Error Metrics of SVC Model\n",
    "SVC_Model_Metrics = enhanced_metrics(y_test, Base_SVC_Model_Predictions)\n",
    "\n",
    "#View Error Metric \n",
    "print(SVC_Model_Metrics)"
   ]
  },
  {
   "cell_type": "code",
   "execution_count": 11,
   "id": "21c2371e",
   "metadata": {
    "ExecuteTime": {
     "end_time": "2024-04-06T15:19:59.832414Z",
     "start_time": "2024-04-06T15:19:59.462678Z"
    }
   },
   "outputs": [
    {
     "name": "stdout",
     "output_type": "stream",
     "text": [
      "Accuracy: 58.599999999999994\n",
      "F1 Score: 70.89999999999999\n",
      "Recall: 75.8\n",
      "Precision: 66.7\n"
     ]
    }
   ],
   "source": [
    "#Create Pipeline to be used in Descision Tree Model\n",
    "Base_DT_Model_Pipeline = Pipeline(steps=[\n",
    "    ('Preprocessor', Preprocessor),\n",
    "    ('Feature_Selection', Selection),\n",
    "    ('DT_Model',DecisionTreeClassifier())])\n",
    "\n",
    "#Fit the training data \n",
    "Base_DT_Model_Pipeline.fit(X_train, y_train)\n",
    "\n",
    "#Make Predictions on the test set \n",
    "Base_DT_Model_Predictions = Base_DT_Model_Pipeline.predict(X_test)\n",
    "\n",
    "#Store individual metrics in a variable for later use \n",
    "DT_Accuracy = (accuracy_score(y_test, Base_DT_Model_Predictions))*100\n",
    "DT_f_score = (f1_score(y_test, Base_DT_Model_Predictions))*100\n",
    "DT_recall_ = (recall_score(y_test, Base_DT_Model_Predictions))*100\n",
    "DT_precision = (precision_score(y_test, Base_DT_Model_Predictions))*100\n",
    "\n",
    "#Get Error Metrics of Random Forest Model\n",
    "DT_Model_Metrics = enhanced_metrics(y_test, Base_DT_Model_Predictions)\n",
    "\n",
    "#View Error Metric \n",
    "print(DT_Model_Metrics)"
   ]
  },
  {
   "cell_type": "code",
   "execution_count": 12,
   "id": "d5424f55",
   "metadata": {
    "ExecuteTime": {
     "end_time": "2024-04-06T15:20:00.411643Z",
     "start_time": "2024-04-06T15:19:59.839341Z"
    },
    "scrolled": true
   },
   "outputs": [
    {
     "name": "stdout",
     "output_type": "stream",
     "text": [
      "Accuracy: 77.8\n",
      "F1 Score: 86.4\n",
      "Recall: 80.5\n",
      "Precision: 93.30000000000001\n"
     ]
    }
   ],
   "source": [
    "# Create Model Pipeline\n",
    "Base_RF_Model_Pipeline = Pipeline(steps=[\n",
    "    ('Preprocessor', Preprocessor),\n",
    "    ('Feature_Selection', Selection),\n",
    "    ('RF_Model', RandomForestClassifier(random_state=42))  \n",
    "])\n",
    "\n",
    "# Fit the training data\n",
    "Base_RF_Model_Pipeline.fit(X_train, y_train)\n",
    "\n",
    "# Make Predictions on the test set\n",
    "Base_RF_Model_Predictions = Base_RF_Model_Pipeline.predict(X_test)\n",
    "\n",
    "#Store individual metrics in a variable for later use \n",
    "RF_Accuracy = (accuracy_score(y_test, Base_RF_Model_Predictions))*100\n",
    "RF_f_score = (f1_score(y_test, Base_RF_Model_Predictions))*100\n",
    "RF_recall_ = (recall_score(y_test, Base_RF_Model_Predictions))*100\n",
    "RF_precision = (precision_score(y_test, Base_RF_Model_Predictions))*100\n",
    "\n",
    "# Use function 'enhanced_metrics' to evaluate model performance\n",
    "RF_Model_Metrics = enhanced_metrics(y_test, Base_RF_Model_Predictions)\n",
    "\n",
    "# View Error Metrics\n",
    "print(RF_Model_Metrics)\n"
   ]
  },
  {
   "cell_type": "code",
   "execution_count": 25,
   "id": "9f58be31",
   "metadata": {
    "ExecuteTime": {
     "end_time": "2024-04-06T16:44:38.576912Z",
     "start_time": "2024-04-06T16:44:38.111860Z"
    }
   },
   "outputs": [
    {
     "name": "stdout",
     "output_type": "stream",
     "text": [
      "Accuracy: 72.7\n",
      "F1 Score: 83.0\n",
      "Recall: 78.60000000000001\n",
      "Precision: 88.0\n"
     ]
    }
   ],
   "source": [
    "#Create Pipeline to be used in Gradient Boosting Classfier Model\n",
    "Base_GBC_Model_Pipeline = Pipeline(steps=[\n",
    "    ('Preprocessor', Preprocessor),\n",
    "    ('RF_Model',GradientBoostingClassifier())])\n",
    "\n",
    "#Fit the training data \n",
    "Base_GBC_Model_Pipeline.fit(X_train, y_train)\n",
    "\n",
    "#Make Predictions on the test set \n",
    "Base_GBC_Model_Predictions = Base_GBC_Model_Pipeline.predict(X_test)\n",
    "\n",
    "#Store individual metrics in a variable for later use \n",
    "GBC_Accuracy = (accuracy_score(y_test, Base_GBC_Model_Predictions))*100\n",
    "GBC_f_score = (f1_score(y_test, Base_GBC_Model_Predictions))*100\n",
    "GBC_recall_ = (recall_score(y_test, Base_GBC_Model_Predictions))*100\n",
    "GBC_precision = (precision_score(y_test, Base_GBC_Model_Predictions))*100\n",
    "\n",
    "#Get Error Metrics of Random Forest Model\n",
    "GBC_Model_Metrics = enhanced_metrics(y_test, Base_GBC_Model_Predictions)\n",
    "\n",
    "#View Error Metric \n",
    "print(GBC_Model_Metrics)"
   ]
  },
  {
   "cell_type": "code",
   "execution_count": 24,
   "id": "843a00f7",
   "metadata": {
    "ExecuteTime": {
     "end_time": "2024-04-06T16:44:31.190137Z",
     "start_time": "2024-04-06T16:44:30.933376Z"
    }
   },
   "outputs": [
    {
     "name": "stdout",
     "output_type": "stream",
     "text": [
      "Accuracy: 70.7\n",
      "F1 Score: 80.80000000000001\n",
      "Recall: 80.30000000000001\n",
      "Precision: 81.3\n"
     ]
    }
   ],
   "source": [
    "#Create PiPeline to be used in Model\n",
    "Base_ADAC_Model_Pipeline = Pipeline(steps=[\n",
    "    ('Preprocessor', Preprocessor),\n",
    "    ('RF_Model',AdaBoostClassifier())])\n",
    "\n",
    "#Fit the training data \n",
    "Base_ADAC_Model_Pipeline.fit(X_train, y_train)\n",
    "\n",
    "#Make Predictions on the test set \n",
    "Base_ADAC_Model_Predictions = Base_ADAC_Model_Pipeline.predict(X_test)\n",
    "\n",
    "#Store individual metrics in a variable for later use \n",
    "ADAC_Accuracy = (accuracy_score(y_test, Base_ADAC_Model_Predictions))*100\n",
    "ADAC_f_score = (f1_score(y_test, Base_ADAC_Model_Predictions))*100\n",
    "ADAC_recall_ = (recall_score(y_test, Base_ADAC_Model_Predictions))*100\n",
    "ADAC_precision = (precision_score(y_test, Base_ADAC_Model_Predictions))*100\n",
    "\n",
    "\n",
    "#Get Error Metrics of Random Forest Model\n",
    "ADAC_Model_Metrics = enhanced_metrics(y_test, Base_ADAC_Model_Predictions)\n",
    "\n",
    "#View Error Metric \n",
    "print(ADAC_Model_Metrics)"
   ]
  },
  {
   "cell_type": "markdown",
   "id": "0d0b0a1b",
   "metadata": {},
   "source": [
    "### Base Model Summary "
   ]
  },
  {
   "cell_type": "code",
   "execution_count": 15,
   "id": "c14efeb1",
   "metadata": {
    "ExecuteTime": {
     "end_time": "2024-04-06T15:20:01.183636Z",
     "start_time": "2024-04-06T15:20:01.176878Z"
    }
   },
   "outputs": [],
   "source": [
    "#Create a dataframe to score metric scores\n",
    "Classifier_Scores = pd.DataFrame()"
   ]
  },
  {
   "cell_type": "code",
   "execution_count": 21,
   "id": "f614aaf0",
   "metadata": {
    "ExecuteTime": {
     "end_time": "2024-04-06T15:26:18.224276Z",
     "start_time": "2024-04-06T15:26:18.190374Z"
    }
   },
   "outputs": [
    {
     "name": "stdout",
     "output_type": "stream",
     "text": [
      "               Model Name   Accuracy   F1 Score      Recall  Precision\n",
      "0     Logistic Regression  64.646465  77.124183   78.666667  75.641026\n",
      "1          Descision Tree  58.585859  70.921986   66.666667  75.757576\n",
      "2  Support Vector Machine  75.757576  86.206897  100.000000  75.757576\n",
      "3           Random Forest  77.777778  86.419753   93.333333  80.459770\n",
      "4       Gradient Boosting  72.727273  83.018868   88.000000  78.571429\n",
      "5              ADA Boost   70.707071  80.794702   81.333333  80.263158\n"
     ]
    }
   ],
   "source": [
    "# Create a DataFrame to store these values\n",
    "metrics_df = pd.DataFrame({\n",
    "    'Logistic Regression': [LR_Accuracy, LR_f_score, LR_recall_, LR_precision],\n",
    "    'Descision Tree' : [DT_Accuracy, DT_f_score, DT_recall_, DT_precision],\n",
    "    'Support Vector Machine' : [SVC_Accuracy, SVC_f_score, SVC_recall_, SVC_precision],\n",
    "    'Random Forest' : [RF_Accuracy, RF_f_score, RF_recall_, RF_precision],\n",
    "    'Gradient Boosting' : [GBC_Accuracy, GBC_f_score, GBC_recall_, GBC_precision],\n",
    "    'ADA Boost ' : [ADAC_Accuracy, ADAC_f_score, ADAC_recall_, ADAC_precision],\n",
    "}, index=['Accuracy','F1 Score', 'Recall', 'Precision'])\n",
    "\n",
    "# Transpose the DataFrame \n",
    "metrics_df = metrics_df.transpose()\n",
    "\n",
    "#rename the index \n",
    "metrics_df.index.name='Model Name'\n",
    "\n",
    "metrics_df.reset_index(inplace=True)\n",
    "\n",
    "# # Display the DataFrame\n",
    "print(metrics_df)"
   ]
  },
  {
   "cell_type": "code",
   "execution_count": 23,
   "id": "4fd9c425",
   "metadata": {
    "ExecuteTime": {
     "end_time": "2024-04-06T15:28:29.394779Z",
     "start_time": "2024-04-06T15:28:28.297409Z"
    },
    "scrolled": false
   },
   "outputs": [
    {
     "name": "stderr",
     "output_type": "stream",
     "text": [
      "/tmp/ipykernel_4157/378985640.py:16: UserWarning: set_ticklabels() should only be used with a fixed number of ticks, i.e. after set_ticks() or using a FixedLocator.\n",
      "  axs[0].set_xticklabels(accuracy_sorted_df['Model Name'], rotation=45)\n",
      "/tmp/ipykernel_4157/378985640.py:25: UserWarning: set_ticklabels() should only be used with a fixed number of ticks, i.e. after set_ticks() or using a FixedLocator.\n",
      "  axs[1].set_xticklabels(precision_sorted_df['Model Name'], rotation=45)\n",
      "/tmp/ipykernel_4157/378985640.py:34: UserWarning: set_ticklabels() should only be used with a fixed number of ticks, i.e. after set_ticks() or using a FixedLocator.\n",
      "  axs[2].set_xticklabels(recall_sorted_df['Model Name'], rotation=45)\n",
      "/tmp/ipykernel_4157/378985640.py:43: UserWarning: set_ticklabels() should only be used with a fixed number of ticks, i.e. after set_ticks() or using a FixedLocator.\n",
      "  axs[3].set_xticklabels(f1_sorted_df['Model Name'], rotation=45)\n"
     ]
    },
    {
     "data": {
      "image/png": "[encoded data removed]",
      "text/plain": [
       "<Figure size 2400x1000 with 4 Axes>"
      ]
     },
     "metadata": {},
     "output_type": "display_data"
    }
   ],
   "source": [
    "#Sort the df based on each metric \n",
    "accuracy_sorted_df = metrics_df.sort_values('Accuracy',ascending=False)\n",
    "f1_sorted_df = metrics_df.sort_values('F1 Score',ascending=False)\n",
    "recall_sorted_df = metrics_df.sort_values('Recall',ascending=False)\n",
    "precision_sorted_df = metrics_df.sort_values('Precision',ascending=False)\n",
    "\n",
    "#Create Figure \n",
    "fig, axs= plt.subplots(1,4, figsize=(24,10))\n",
    "\n",
    "fig.suptitle(\"Base Model Performance\",fontsize=16)\n",
    "\n",
    "#Plot Accuracy in AXS[0,0]\n",
    "bar_accuracy = axs[0].bar(accuracy_sorted_df['Model Name'], accuracy_sorted_df['Accuracy'])\n",
    "axs[0].set_title('Accuracy By Classifiers')\n",
    "axs[0].set_ylabel('Percentage %')\n",
    "axs[0].set_xticklabels(accuracy_sorted_df['Model Name'], rotation=45)\n",
    "for bar in bar_accuracy:\n",
    "    height = bar.get_height()\n",
    "    axs[0].text(bar.get_x() + bar.get_width() / 2, height, f'{height:.2f}%', ha='center', va='bottom')\n",
    "\n",
    "#Plot Precision in AXS[1[]\n",
    "bar_precision = axs[1].bar(precision_sorted_df['Model Name'], precision_sorted_df['Precision'])\n",
    "axs[1].set_title('Precision By Classifiers')\n",
    "axs[1].set_ylabel('Percentage %')\n",
    "axs[1].set_xticklabels(precision_sorted_df['Model Name'], rotation=45)\n",
    "for bar in bar_precision:\n",
    "    height = bar.get_height()\n",
    "    axs[1].text(bar.get_x() + bar.get_width() / 2, height, f'{height:.2f}%', ha='center', va='bottom')\n",
    "\n",
    "#Plot Recall in AXS[2]\n",
    "bar_recall = axs[2].bar(recall_sorted_df['Model Name'], recall_sorted_df['Recall'])\n",
    "axs[2].set_title('Recall By Classifiers')\n",
    "axs[2].set_ylabel('Percentage %')\n",
    "axs[2].set_xticklabels(recall_sorted_df['Model Name'], rotation=45)\n",
    "for bar in bar_recall:\n",
    "    height = bar.get_height()\n",
    "    axs[2].text(bar.get_x() + bar.get_width() / 2, height, f'{height:.2f}%', ha='center', va='bottom')\n",
    "    \n",
    "#Plot F1 Score in AXS[3]\n",
    "bar_fscore = axs[3].bar(f1_sorted_df['Model Name'], f1_sorted_df['F1 Score'])\n",
    "axs[3].set_title('F1 Score By Classifiers')\n",
    "axs[3].set_ylabel('Percentage %')\n",
    "axs[3].set_xticklabels(f1_sorted_df['Model Name'], rotation=45)\n",
    "for bar in bar_fscore:\n",
    "    height = bar.get_height()\n",
    "    axs[3].text(bar.get_x() + bar.get_width() / 2, height, f'{height:.2f}%', ha='center', va='bottom')\n",
    "    \n",
    "plt.tight_layout()\n"
   ]
  },
  {
   "cell_type": "markdown",
   "id": "78f373a1",
   "metadata": {},
   "source": [
    "### There might be an issue between the Recall and Precision value of Logistic Regression - do not delete this until investigate further "
   ]
  },
  {
   "cell_type": "markdown",
   "id": "a2ecb6ee",
   "metadata": {},
   "source": [
    "### Feature Importance"
   ]
  },
  {
   "cell_type": "code",
   "execution_count": 18,
   "id": "d6cc5fd6",
   "metadata": {
    "ExecuteTime": {
     "end_time": "2024-04-06T15:20:02.602804Z",
     "start_time": "2024-04-06T15:20:02.551539Z"
    }
   },
   "outputs": [
    {
     "data": {
      "text/html": [
       "<div>\n",
       "<style scoped>\n",
       "    .dataframe tbody tr th:only-of-type {\n",
       "        vertical-align: middle;\n",
       "    }\n",
       "\n",
       "    .dataframe tbody tr th {\n",
       "        vertical-align: top;\n",
       "    }\n",
       "\n",
       "    .dataframe thead th {\n",
       "        text-align: right;\n",
       "    }\n",
       "</style>\n",
       "<table border=\"1\" class=\"dataframe\">\n",
       "  <thead>\n",
       "    <tr style=\"text-align: right;\">\n",
       "      <th></th>\n",
       "      <th>Feature</th>\n",
       "      <th>Importance</th>\n",
       "    </tr>\n",
       "  </thead>\n",
       "  <tbody>\n",
       "    <tr>\n",
       "      <th>0</th>\n",
       "      <td>num__volume</td>\n",
       "      <td>0.059827</td>\n",
       "    </tr>\n",
       "    <tr>\n",
       "      <th>1</th>\n",
       "      <td>remainder__Spread</td>\n",
       "      <td>0.051581</td>\n",
       "    </tr>\n",
       "    <tr>\n",
       "      <th>2</th>\n",
       "      <td>remainder__%D</td>\n",
       "      <td>0.048857</td>\n",
       "    </tr>\n",
       "    <tr>\n",
       "      <th>3</th>\n",
       "      <td>remainder__%K</td>\n",
       "      <td>0.047307</td>\n",
       "    </tr>\n",
       "    <tr>\n",
       "      <th>4</th>\n",
       "      <td>remainder__Day</td>\n",
       "      <td>0.047281</td>\n",
       "    </tr>\n",
       "    <tr>\n",
       "      <th>5</th>\n",
       "      <td>remainder__slowk</td>\n",
       "      <td>0.046831</td>\n",
       "    </tr>\n",
       "    <tr>\n",
       "      <th>6</th>\n",
       "      <td>remainder__ADXR</td>\n",
       "      <td>0.046302</td>\n",
       "    </tr>\n",
       "    <tr>\n",
       "      <th>7</th>\n",
       "      <td>remainder__ADX</td>\n",
       "      <td>0.044878</td>\n",
       "    </tr>\n",
       "    <tr>\n",
       "      <th>8</th>\n",
       "      <td>remainder__slowd</td>\n",
       "      <td>0.044316</td>\n",
       "    </tr>\n",
       "    <tr>\n",
       "      <th>9</th>\n",
       "      <td>remainder__high</td>\n",
       "      <td>0.038249</td>\n",
       "    </tr>\n",
       "    <tr>\n",
       "      <th>10</th>\n",
       "      <td>remainder__100EMA</td>\n",
       "      <td>0.036735</td>\n",
       "    </tr>\n",
       "    <tr>\n",
       "      <th>11</th>\n",
       "      <td>remainder__75EMA</td>\n",
       "      <td>0.036390</td>\n",
       "    </tr>\n",
       "    <tr>\n",
       "      <th>12</th>\n",
       "      <td>remainder__Trade_Week_Year</td>\n",
       "      <td>0.035593</td>\n",
       "    </tr>\n",
       "    <tr>\n",
       "      <th>13</th>\n",
       "      <td>remainder__open</td>\n",
       "      <td>0.035518</td>\n",
       "    </tr>\n",
       "    <tr>\n",
       "      <th>14</th>\n",
       "      <td>remainder__125EMA</td>\n",
       "      <td>0.035280</td>\n",
       "    </tr>\n",
       "    <tr>\n",
       "      <th>15</th>\n",
       "      <td>remainder__25EMA</td>\n",
       "      <td>0.035095</td>\n",
       "    </tr>\n",
       "    <tr>\n",
       "      <th>16</th>\n",
       "      <td>remainder__50EMA</td>\n",
       "      <td>0.034670</td>\n",
       "    </tr>\n",
       "    <tr>\n",
       "      <th>17</th>\n",
       "      <td>remainder__close</td>\n",
       "      <td>0.033642</td>\n",
       "    </tr>\n",
       "    <tr>\n",
       "      <th>18</th>\n",
       "      <td>remainder__low</td>\n",
       "      <td>0.033193</td>\n",
       "    </tr>\n",
       "    <tr>\n",
       "      <th>19</th>\n",
       "      <td>remainder__Month</td>\n",
       "      <td>0.025075</td>\n",
       "    </tr>\n",
       "  </tbody>\n",
       "</table>\n",
       "</div>"
      ],
      "text/plain": [
       "                       Feature  Importance\n",
       "0                  num__volume    0.059827\n",
       "1            remainder__Spread    0.051581\n",
       "2                remainder__%D    0.048857\n",
       "3                remainder__%K    0.047307\n",
       "4               remainder__Day    0.047281\n",
       "5             remainder__slowk    0.046831\n",
       "6              remainder__ADXR    0.046302\n",
       "7               remainder__ADX    0.044878\n",
       "8             remainder__slowd    0.044316\n",
       "9              remainder__high    0.038249\n",
       "10           remainder__100EMA    0.036735\n",
       "11            remainder__75EMA    0.036390\n",
       "12  remainder__Trade_Week_Year    0.035593\n",
       "13             remainder__open    0.035518\n",
       "14           remainder__125EMA    0.035280\n",
       "15            remainder__25EMA    0.035095\n",
       "16            remainder__50EMA    0.034670\n",
       "17            remainder__close    0.033642\n",
       "18              remainder__low    0.033193\n",
       "19            remainder__Month    0.025075"
      ]
     },
     "execution_count": 18,
     "metadata": {},
     "output_type": "execute_result"
    }
   ],
   "source": [
    "#Retrived the Feature Selection Step \n",
    "feature_selection = Base_RF_Model_Pipeline.named_steps['Feature_Selection']\n",
    "\n",
    "#Retrieve the trained model \n",
    "trained_RF_Model = Base_RF_Model_Pipeline.named_steps['RF_Model']\n",
    "\n",
    "feature_importances = trained_RF_Model.feature_importances_\n",
    "\n",
    "# Get the indices of selected features\n",
    "selected_feature_indices = feature_selection.get_support(indices=True)\n",
    "\n",
    "# Extract feature names\n",
    "all_feature_names = Preprocessor.get_feature_names_out()\n",
    "selected_feature_names = [all_feature_names[i] for i in selected_feature_indices]\n",
    "\n",
    "# Combine feature names with their importances\n",
    "features_and_importances = zip(selected_feature_names, feature_importances)\n",
    "\n",
    "# Sort features by importance\n",
    "sorted_features_and_importances = sorted(features_and_importances, key=lambda x: x[1], reverse=True)\n",
    "\n",
    "\n",
    "# Create a DataFrame from the features and importances\n",
    "feature_importance_df = pd.DataFrame(sorted_features_and_importances, columns=['Feature', 'Importance'])\n",
    "\n",
    "# Display the DataFrame\n",
    "feature_importance_df.head(20)"
   ]
  },
  {
   "cell_type": "markdown",
   "id": "d53fe12b",
   "metadata": {},
   "source": [
    "### Reference: Concepts To Understand \n",
    "\n",
    "#### Accuracy: \n",
    "                - Measures the overall correctness of the classifier. It's calculated by dividing the number of correctly classifier samples by the total number of samples. \n",
    "                - Accuracy tells us how often the classifier correctly predicted whether a trade is a successful or not compared to the total number of trades.\n",
    "                - An Accuracy of .76 means that classifier correctly predicted the trade status for approximately 76% of the time. \n",
    "                \n",
    "#### Recall:\n",
    "             - Also known as sensitivity or true positive, measures  the ability of the classifier to correctly identify all positive instances. \n",
    "             - In the context of a trade status classifier, recall tells us how often the classifier correctly identified out of all successful trades.\n",
    "             - A recall of approximately .795 means that the classifier correctly identified 79.5% of the successful trades. \n",
    "#### Precision \n",
    "              - Measures the ability of the classifier to correctly identify only relevant instances among all instances it has classified as positive. \n",
    "              - In the context of a trade status classifier, precision measures the proportion of correctly predicted successful trades out of all successful trades.\n",
    "              - A precision of approximately .933 means that about 93.3% of the trades predicted as successful by the classifier were actually successful. \n",
    "#### F1 Score\n",
    "                - Is a metric that combines precision and recall into a single value - it is the harmonic mean between precision and recall. \n",
    "                - Precision measures the proportion of correctly predicted positive cases among all predicted cases.\n",
    "                - While Recall, measures the proportion of correctly predicted positive cases among all actual positive cases.\n",
    "                - F1 Score provides a balance between precision and recall, it is especially useful when there is an uneven class distribution.\n",
    "                - In the context of a trade status classifier, an F1 Score of .859 indicate a good balance between precision and recall predicting whether trades were successful or not. "
   ]
  }
 ],
 "metadata": {
  "kernelspec": {
   "display_name": "Python 3 (ipykernel)",
   "language": "python",
   "name": "python3"
  },
  "language_info": {
   "codemirror_mode": {
    "name": "ipython",
    "version": 3
   },
   "file_extension": ".py",
   "mimetype": "text/x-python",
   "name": "python",
   "nbconvert_exporter": "python",
   "pygments_lexer": "ipython3",
   "version": "3.9.2"
  }
 },
 "nbformat": 4,
 "nbformat_minor": 5
}
