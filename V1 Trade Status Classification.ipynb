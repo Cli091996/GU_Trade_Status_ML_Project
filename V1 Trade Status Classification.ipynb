{
 "cells": [
  {
   "cell_type": "markdown",
   "id": "ae8e9657",
   "metadata": {},
   "source": [
    "### Import Libraries "
   ]
  },
  {
   "cell_type": "code",
   "execution_count": 1,
   "id": "d98cbd8a",
   "metadata": {
    "ExecuteTime": {
     "end_time": "2024-01-20T20:41:50.214695Z",
     "start_time": "2024-01-20T20:41:48.496039Z"
    }
   },
   "outputs": [
    {
     "data": {
      "text/html": [
       "<style>.container { width:100% !important; }</style>"
      ],
      "text/plain": [
       "<IPython.core.display.HTML object>"
      ]
     },
     "metadata": {},
     "output_type": "display_data"
    }
   ],
   "source": [
    "import pandas as pd \n",
    "from matplotlib import pyplot as plt \n",
    "from sklearn.linear_model import LogisticRegression\n",
    "from sklearn.model_selection import train_test_split\n",
    "from sklearn.metrics import confusion_matrix\n",
    "from sklearn.metrics import accuracy_score, classification_report  # Import accuracy_score\n",
    "from sklearn.tree import DecisionTreeClassifier\n",
    "from sklearn.model_selection import cross_val_score\n",
    "from sklearn.ensemble import GradientBoostingClassifier\n",
    "from sklearn.ensemble import BaggingClassifier\n",
    "\n",
    "#formats\n",
    "from IPython.display import display, HTML\n",
    "pd.set_option('display.max_columns', None)\n",
    "display(HTML(\"<style>.container { width:100% !important; }</style>\"))"
   ]
  },
  {
   "cell_type": "markdown",
   "id": "60c529ee",
   "metadata": {},
   "source": [
    "### Import Dataset"
   ]
  },
  {
   "cell_type": "code",
   "execution_count": 2,
   "id": "b9702d08",
   "metadata": {
    "ExecuteTime": {
     "end_time": "2024-01-20T20:41:50.381029Z",
     "start_time": "2024-01-20T20:41:50.220531Z"
    }
   },
   "outputs": [
    {
     "data": {
      "text/html": [
       "<div>\n",
       "<style scoped>\n",
       "    .dataframe tbody tr th:only-of-type {\n",
       "        vertical-align: middle;\n",
       "    }\n",
       "\n",
       "    .dataframe tbody tr th {\n",
       "        vertical-align: top;\n",
       "    }\n",
       "\n",
       "    .dataframe thead th {\n",
       "        text-align: right;\n",
       "    }\n",
       "</style>\n",
       "<table border=\"1\" class=\"dataframe\">\n",
       "  <thead>\n",
       "    <tr style=\"text-align: right;\">\n",
       "      <th></th>\n",
       "      <th>datetime</th>\n",
       "      <th>open</th>\n",
       "      <th>high</th>\n",
       "      <th>low</th>\n",
       "      <th>close</th>\n",
       "      <th>25EMA</th>\n",
       "      <th>50EMA</th>\n",
       "      <th>100EMA</th>\n",
       "      <th>125EMA</th>\n",
       "      <th>Ticker</th>\n",
       "      <th>Interval</th>\n",
       "      <th>Month</th>\n",
       "      <th>Year</th>\n",
       "      <th>Date</th>\n",
       "      <th>Primary_Key</th>\n",
       "      <th>Trend Status</th>\n",
       "      <th>Spread</th>\n",
       "      <th>Action</th>\n",
       "      <th>Opportunity</th>\n",
       "      <th>Order Type</th>\n",
       "      <th>Alerts</th>\n",
       "      <th>Index_Special</th>\n",
       "      <th>Alerts_Index</th>\n",
       "      <th>ROI Since Alert</th>\n",
       "      <th>Lowest Low</th>\n",
       "      <th>Highest High</th>\n",
       "      <th>Low Spread</th>\n",
       "      <th>High Spread</th>\n",
       "      <th>1D Trade Status</th>\n",
       "    </tr>\n",
       "  </thead>\n",
       "  <tbody>\n",
       "    <tr>\n",
       "      <th>0</th>\n",
       "      <td>2020-12-11 03:00:00</td>\n",
       "      <td>1.32780</td>\n",
       "      <td>1.32905</td>\n",
       "      <td>1.31740</td>\n",
       "      <td>1.31830</td>\n",
       "      <td>1.318300</td>\n",
       "      <td>1.318300</td>\n",
       "      <td>1.318300</td>\n",
       "      <td>1.318300</td>\n",
       "      <td>GBP/USD</td>\n",
       "      <td>4h</td>\n",
       "      <td>January</td>\n",
       "      <td>2020</td>\n",
       "      <td>2020-12-11 03:00:00</td>\n",
       "      <td>GBP/USD4h2020-12-11 03:00:00</td>\n",
       "      <td>Consolidating</td>\n",
       "      <td>0.000000</td>\n",
       "      <td>NaN</td>\n",
       "      <td>Suboptimal</td>\n",
       "      <td>NaN</td>\n",
       "      <td>0</td>\n",
       "      <td>NaN</td>\n",
       "      <td>0</td>\n",
       "      <td>0.0</td>\n",
       "      <td>NaN</td>\n",
       "      <td>NaN</td>\n",
       "      <td>NaN</td>\n",
       "      <td>NaN</td>\n",
       "      <td>0</td>\n",
       "    </tr>\n",
       "    <tr>\n",
       "      <th>1</th>\n",
       "      <td>2020-12-11 07:00:00</td>\n",
       "      <td>1.31830</td>\n",
       "      <td>1.32555</td>\n",
       "      <td>1.31350</td>\n",
       "      <td>1.32120</td>\n",
       "      <td>1.318523</td>\n",
       "      <td>1.318414</td>\n",
       "      <td>1.318357</td>\n",
       "      <td>1.318346</td>\n",
       "      <td>GBP/USD</td>\n",
       "      <td>4h</td>\n",
       "      <td>January</td>\n",
       "      <td>2020</td>\n",
       "      <td>2020-12-11 07:00:00</td>\n",
       "      <td>GBP/USD4h2020-12-11 07:00:00</td>\n",
       "      <td>Bullish</td>\n",
       "      <td>0.000109</td>\n",
       "      <td>NaN</td>\n",
       "      <td>Unfavorable</td>\n",
       "      <td>NaN</td>\n",
       "      <td>0</td>\n",
       "      <td>NaN</td>\n",
       "      <td>0</td>\n",
       "      <td>0.0</td>\n",
       "      <td>NaN</td>\n",
       "      <td>NaN</td>\n",
       "      <td>NaN</td>\n",
       "      <td>NaN</td>\n",
       "      <td>0</td>\n",
       "    </tr>\n",
       "    <tr>\n",
       "      <th>2</th>\n",
       "      <td>2020-12-11 11:00:00</td>\n",
       "      <td>1.32180</td>\n",
       "      <td>1.32315</td>\n",
       "      <td>1.31885</td>\n",
       "      <td>1.32265</td>\n",
       "      <td>1.318841</td>\n",
       "      <td>1.318580</td>\n",
       "      <td>1.318442</td>\n",
       "      <td>1.318414</td>\n",
       "      <td>GBP/USD</td>\n",
       "      <td>4h</td>\n",
       "      <td>January</td>\n",
       "      <td>2020</td>\n",
       "      <td>2020-12-11 11:00:00</td>\n",
       "      <td>GBP/USD4h2020-12-11 11:00:00</td>\n",
       "      <td>Bullish</td>\n",
       "      <td>0.000261</td>\n",
       "      <td>NaN</td>\n",
       "      <td>Unfavorable</td>\n",
       "      <td>NaN</td>\n",
       "      <td>0</td>\n",
       "      <td>NaN</td>\n",
       "      <td>0</td>\n",
       "      <td>0.0</td>\n",
       "      <td>NaN</td>\n",
       "      <td>NaN</td>\n",
       "      <td>NaN</td>\n",
       "      <td>NaN</td>\n",
       "      <td>0</td>\n",
       "    </tr>\n",
       "    <tr>\n",
       "      <th>3</th>\n",
       "      <td>2020-12-11 15:00:00</td>\n",
       "      <td>1.32265</td>\n",
       "      <td>1.32365</td>\n",
       "      <td>1.32140</td>\n",
       "      <td>1.32260</td>\n",
       "      <td>1.319130</td>\n",
       "      <td>1.318738</td>\n",
       "      <td>1.318525</td>\n",
       "      <td>1.318481</td>\n",
       "      <td>GBP/USD</td>\n",
       "      <td>4h</td>\n",
       "      <td>January</td>\n",
       "      <td>2020</td>\n",
       "      <td>2020-12-11 15:00:00</td>\n",
       "      <td>GBP/USD4h2020-12-11 15:00:00</td>\n",
       "      <td>Bullish</td>\n",
       "      <td>0.000392</td>\n",
       "      <td>NaN</td>\n",
       "      <td>Unfavorable</td>\n",
       "      <td>NaN</td>\n",
       "      <td>0</td>\n",
       "      <td>NaN</td>\n",
       "      <td>0</td>\n",
       "      <td>0.0</td>\n",
       "      <td>NaN</td>\n",
       "      <td>NaN</td>\n",
       "      <td>NaN</td>\n",
       "      <td>NaN</td>\n",
       "      <td>0</td>\n",
       "    </tr>\n",
       "    <tr>\n",
       "      <th>4</th>\n",
       "      <td>2020-12-13 15:00:00</td>\n",
       "      <td>1.33680</td>\n",
       "      <td>1.33785</td>\n",
       "      <td>1.33155</td>\n",
       "      <td>1.33170</td>\n",
       "      <td>1.320097</td>\n",
       "      <td>1.319246</td>\n",
       "      <td>1.318786</td>\n",
       "      <td>1.318691</td>\n",
       "      <td>GBP/USD</td>\n",
       "      <td>4h</td>\n",
       "      <td>January</td>\n",
       "      <td>2020</td>\n",
       "      <td>2020-12-13 15:00:00</td>\n",
       "      <td>GBP/USD4h2020-12-13 15:00:00</td>\n",
       "      <td>Bullish</td>\n",
       "      <td>0.000851</td>\n",
       "      <td>NaN</td>\n",
       "      <td>Unfavorable</td>\n",
       "      <td>NaN</td>\n",
       "      <td>0</td>\n",
       "      <td>NaN</td>\n",
       "      <td>0</td>\n",
       "      <td>0.0</td>\n",
       "      <td>NaN</td>\n",
       "      <td>NaN</td>\n",
       "      <td>NaN</td>\n",
       "      <td>NaN</td>\n",
       "      <td>0</td>\n",
       "    </tr>\n",
       "  </tbody>\n",
       "</table>\n",
       "</div>"
      ],
      "text/plain": [
       "              datetime     open     high      low    close     25EMA   \n",
       "0  2020-12-11 03:00:00  1.32780  1.32905  1.31740  1.31830  1.318300  \\\n",
       "1  2020-12-11 07:00:00  1.31830  1.32555  1.31350  1.32120  1.318523   \n",
       "2  2020-12-11 11:00:00  1.32180  1.32315  1.31885  1.32265  1.318841   \n",
       "3  2020-12-11 15:00:00  1.32265  1.32365  1.32140  1.32260  1.319130   \n",
       "4  2020-12-13 15:00:00  1.33680  1.33785  1.33155  1.33170  1.320097   \n",
       "\n",
       "      50EMA    100EMA    125EMA   Ticker Interval    Month  Year   \n",
       "0  1.318300  1.318300  1.318300  GBP/USD       4h  January  2020  \\\n",
       "1  1.318414  1.318357  1.318346  GBP/USD       4h  January  2020   \n",
       "2  1.318580  1.318442  1.318414  GBP/USD       4h  January  2020   \n",
       "3  1.318738  1.318525  1.318481  GBP/USD       4h  January  2020   \n",
       "4  1.319246  1.318786  1.318691  GBP/USD       4h  January  2020   \n",
       "\n",
       "                  Date                   Primary_Key   Trend Status    Spread   \n",
       "0  2020-12-11 03:00:00  GBP/USD4h2020-12-11 03:00:00  Consolidating  0.000000  \\\n",
       "1  2020-12-11 07:00:00  GBP/USD4h2020-12-11 07:00:00        Bullish  0.000109   \n",
       "2  2020-12-11 11:00:00  GBP/USD4h2020-12-11 11:00:00        Bullish  0.000261   \n",
       "3  2020-12-11 15:00:00  GBP/USD4h2020-12-11 15:00:00        Bullish  0.000392   \n",
       "4  2020-12-13 15:00:00  GBP/USD4h2020-12-13 15:00:00        Bullish  0.000851   \n",
       "\n",
       "  Action  Opportunity Order Type  Alerts  Index_Special  Alerts_Index   \n",
       "0    NaN   Suboptimal        NaN       0            NaN             0  \\\n",
       "1    NaN  Unfavorable        NaN       0            NaN             0   \n",
       "2    NaN  Unfavorable        NaN       0            NaN             0   \n",
       "3    NaN  Unfavorable        NaN       0            NaN             0   \n",
       "4    NaN  Unfavorable        NaN       0            NaN             0   \n",
       "\n",
       "   ROI Since Alert  Lowest Low  Highest High  Low Spread  High Spread   \n",
       "0              0.0         NaN           NaN         NaN          NaN  \\\n",
       "1              0.0         NaN           NaN         NaN          NaN   \n",
       "2              0.0         NaN           NaN         NaN          NaN   \n",
       "3              0.0         NaN           NaN         NaN          NaN   \n",
       "4              0.0         NaN           NaN         NaN          NaN   \n",
       "\n",
       "   1D Trade Status  \n",
       "0                0  \n",
       "1                0  \n",
       "2                0  \n",
       "3                0  \n",
       "4                0  "
      ]
     },
     "execution_count": 2,
     "metadata": {},
     "output_type": "execute_result"
    }
   ],
   "source": [
    "df = pd.read_csv('/home/clivence/base_jupyter/Datadump/Master_data_base.csv')\n",
    "\n",
    "\n",
    "# df = pd.read_csv('/home/clivence/base_jupyter/Datadump/edata.csv')\n",
    "df.head()"
   ]
  },
  {
   "cell_type": "markdown",
   "id": "0d8f7a4c",
   "metadata": {},
   "source": [
    "### Data Cleaning"
   ]
  },
  {
   "cell_type": "code",
   "execution_count": 3,
   "id": "0cab67ed",
   "metadata": {
    "ExecuteTime": {
     "end_time": "2024-01-20T20:41:50.410744Z",
     "start_time": "2024-01-20T20:41:50.395639Z"
    }
   },
   "outputs": [],
   "source": [
    "#Subset for trades\n",
    "df = df[df['Alerts'] ==1] \n",
    "df = df[df['Action'] == 'Ultimate Action']\n",
    "df = df[df['Ticker'] == 'GBP/USD']\n",
    "df.fillna(0, inplace=True)\n"
   ]
  },
  {
   "cell_type": "code",
   "execution_count": 4,
   "id": "6cb0ae07",
   "metadata": {
    "ExecuteTime": {
     "end_time": "2024-01-20T20:41:50.452097Z",
     "start_time": "2024-01-20T20:41:50.416223Z"
    }
   },
   "outputs": [
    {
     "data": {
      "text/plain": [
       "Index(['datetime', 'open', 'high', 'low', 'close', '25EMA', '50EMA', '100EMA',\n",
       "       '125EMA', 'Ticker', 'Interval', 'Month', 'Year', 'Date', 'Primary_Key',\n",
       "       'Trend Status', 'Spread', 'Action', 'Opportunity', 'Order Type',\n",
       "       'Alerts', 'Index_Special', 'Alerts_Index', 'ROI Since Alert',\n",
       "       'Lowest Low', 'Highest High', 'Low Spread', 'High Spread',\n",
       "       '1D Trade Status'],\n",
       "      dtype='object')"
      ]
     },
     "execution_count": 4,
     "metadata": {},
     "output_type": "execute_result"
    }
   ],
   "source": [
    "# df.head()\n",
    "df.columns"
   ]
  },
  {
   "cell_type": "code",
   "execution_count": 5,
   "id": "e98da383",
   "metadata": {
    "ExecuteTime": {
     "end_time": "2024-01-20T20:41:50.483297Z",
     "start_time": "2024-01-20T20:41:50.458500Z"
    }
   },
   "outputs": [],
   "source": [
    "#Subset of features to keep\n",
    "# df= df[['open', 'high', 'low', 'close', '25EMA', '50EMA', '75EMA','100EMA', '125EMA',\n",
    "#         'Trend Status', 'Spread','5075 Trend Status', '75100 Trend Status',\n",
    "#        '100125 Trend Status', 'Action', 'Opportunity', 'Order Type','2D Lowest Price',\n",
    "#        '2D Highest Price', '2D Low in Pips', '2D High in Pips',\n",
    "#        '2D Trade Status', '2D Hard Stop Price', '2D Hard Stop Loss',\n",
    "#        '2D Trend Change Stop Price', '2D Trend Change Stop Loss']]\n",
    "df= df[['open', 'high', 'low', 'close', '25EMA', '50EMA','100EMA', '125EMA',\n",
    "        'Trend Status', 'Spread', 'Action', 'Opportunity', 'Order Type','1D Trade Status']]"
   ]
  },
  {
   "cell_type": "code",
   "execution_count": 6,
   "id": "3a044dba",
   "metadata": {
    "ExecuteTime": {
     "end_time": "2024-01-20T20:41:50.519571Z",
     "start_time": "2024-01-20T20:41:50.494411Z"
    }
   },
   "outputs": [],
   "source": [
    "#Apply one-hot encoding \n",
    "df= pd.get_dummies(df,columns=['Trend Status', 'Action', 'Opportunity', 'Order Type'])"
   ]
  },
  {
   "cell_type": "code",
   "execution_count": 7,
   "id": "fe38ed4d",
   "metadata": {
    "ExecuteTime": {
     "end_time": "2024-01-20T20:41:50.538102Z",
     "start_time": "2024-01-20T20:41:50.523071Z"
    }
   },
   "outputs": [
    {
     "data": {
      "text/plain": [
       "Index(['open', 'high', 'low', 'close', '25EMA', '50EMA', '100EMA', '125EMA',\n",
       "       'Spread', '1D Trade Status', 'Trend Status_Bearish',\n",
       "       'Trend Status_Bullish', 'Action_Ultimate Action', 'Opportunity_Optimal',\n",
       "       'Opportunity_Unfavorable', 'Order Type_BUY', 'Order Type_SELL'],\n",
       "      dtype='object')"
      ]
     },
     "execution_count": 7,
     "metadata": {},
     "output_type": "execute_result"
    }
   ],
   "source": [
    "# df.head(20)\n",
    "df.columns"
   ]
  },
  {
   "cell_type": "code",
   "execution_count": 8,
   "id": "597f487f",
   "metadata": {
    "ExecuteTime": {
     "end_time": "2024-01-20T20:41:50.928321Z",
     "start_time": "2024-01-20T20:41:50.542908Z"
    }
   },
   "outputs": [
    {
     "data": {
      "image/png": "[encoded data removed]",
      "text/plain": [
       "<Figure size 640x480 with 1 Axes>"
      ]
     },
     "metadata": {},
     "output_type": "display_data"
    }
   ],
   "source": [
    "#Create a scatter plot of the target variable \n",
    "plt.scatter(x=df['close'],y=df['1D Trade Status'], c=df['1D Trade Status'], cmap='rainbow')\n",
    "plt.title('Scatter Plot of Trades Results for Logistic Regression')\n",
    "plt.show()"
   ]
  },
  {
   "cell_type": "code",
   "execution_count": 9,
   "id": "c68162d9",
   "metadata": {
    "ExecuteTime": {
     "end_time": "2024-01-20T20:41:50.955924Z",
     "start_time": "2024-01-20T20:41:50.932962Z"
    }
   },
   "outputs": [
    {
     "data": {
      "text/plain": [
       "1D Trade Status\n",
       "1    82\n",
       "0    34\n",
       "Name: count, dtype: int64"
      ]
     },
     "execution_count": 9,
     "metadata": {},
     "output_type": "execute_result"
    }
   ],
   "source": [
    "df['1D Trade Status'].value_counts()"
   ]
  },
  {
   "cell_type": "markdown",
   "id": "1e7518ea",
   "metadata": {},
   "source": [
    "### Split Data: Training & Test Data"
   ]
  },
  {
   "cell_type": "code",
   "execution_count": 10,
   "id": "8753e70b",
   "metadata": {
    "ExecuteTime": {
     "end_time": "2024-01-20T20:41:50.983705Z",
     "start_time": "2024-01-20T20:41:50.970568Z"
    }
   },
   "outputs": [],
   "source": [
    "#Indepedent Variables \n",
    "X = df[['open', 'high', 'low', 'close', '25EMA', '50EMA', '100EMA',\n",
    "       '125EMA', 'Spread','Trend Status_Bearish',\n",
    "       'Trend Status_Bullish','Action_Ultimate Action',\n",
    "       'Opportunity_Optimal', 'Opportunity_Unfavorable', 'Order Type_BUY',\n",
    "       'Order Type_SELL']]\n",
    "#Dependent Variable\n",
    "Y = df['1D Trade Status'] "
   ]
  },
  {
   "cell_type": "code",
   "execution_count": 11,
   "id": "14d1aeb4",
   "metadata": {
    "ExecuteTime": {
     "end_time": "2024-01-20T20:41:51.020280Z",
     "start_time": "2024-01-20T20:41:50.987160Z"
    }
   },
   "outputs": [],
   "source": [
    "X_train,X_test,Y_train, Y_test = train_test_split(X,Y, test_size=0.2, random_state=42)"
   ]
  },
  {
   "cell_type": "markdown",
   "id": "6fb67037",
   "metadata": {},
   "source": [
    "### Algoritm Selection "
   ]
  },
  {
   "cell_type": "code",
   "execution_count": 12,
   "id": "3f80c0fa",
   "metadata": {
    "ExecuteTime": {
     "end_time": "2024-01-20T20:41:51.064854Z",
     "start_time": "2024-01-20T20:41:51.032741Z"
    }
   },
   "outputs": [],
   "source": [
    "model = LogisticRegression()\n",
    "model.fit(X_train, Y_train)\n",
    "\n",
    "Y_pred = model.predict(X_test)"
   ]
  },
  {
   "cell_type": "markdown",
   "id": "c311499f",
   "metadata": {},
   "source": [
    "### Evaluate Results "
   ]
  },
  {
   "cell_type": "code",
   "execution_count": 13,
   "id": "7e90c7e0",
   "metadata": {
    "ExecuteTime": {
     "end_time": "2024-01-20T20:41:51.112468Z",
     "start_time": "2024-01-20T20:41:51.068835Z"
    }
   },
   "outputs": [
    {
     "name": "stdout",
     "output_type": "stream",
     "text": [
      "Accuracy: 0.6666666666666666\n",
      "\n",
      "Classfication Report:\n",
      "               precision    recall  f1-score   support\n",
      "\n",
      "           0       0.00      0.00      0.00         8\n",
      "           1       0.67      1.00      0.80        16\n",
      "\n",
      "    accuracy                           0.67        24\n",
      "   macro avg       0.33      0.50      0.40        24\n",
      "weighted avg       0.44      0.67      0.53        24\n",
      "\n"
     ]
    },
    {
     "name": "stderr",
     "output_type": "stream",
     "text": [
      "/home/clivence/base_jupyter/venv/lib/python3.9/site-packages/sklearn/metrics/_classification.py:1469: UndefinedMetricWarning: Precision and F-score are ill-defined and being set to 0.0 in labels with no predicted samples. Use `zero_division` parameter to control this behavior.\n",
      "  _warn_prf(average, modifier, msg_start, len(result))\n",
      "/home/clivence/base_jupyter/venv/lib/python3.9/site-packages/sklearn/metrics/_classification.py:1469: UndefinedMetricWarning: Precision and F-score are ill-defined and being set to 0.0 in labels with no predicted samples. Use `zero_division` parameter to control this behavior.\n",
      "  _warn_prf(average, modifier, msg_start, len(result))\n",
      "/home/clivence/base_jupyter/venv/lib/python3.9/site-packages/sklearn/metrics/_classification.py:1469: UndefinedMetricWarning: Precision and F-score are ill-defined and being set to 0.0 in labels with no predicted samples. Use `zero_division` parameter to control this behavior.\n",
      "  _warn_prf(average, modifier, msg_start, len(result))\n"
     ]
    }
   ],
   "source": [
    "accuracy = accuracy_score(Y_test,Y_pred)\n",
    "classification_rep =classification_report(Y_test,Y_pred)\n",
    "\n",
    "print(f\"Accuracy:\", accuracy)\n",
    "print(f\"\\nClassfication Report:\\n\",classification_rep )"
   ]
  },
  {
   "cell_type": "code",
   "execution_count": 14,
   "id": "ad8c6ad6",
   "metadata": {
    "ExecuteTime": {
     "end_time": "2024-01-20T20:41:51.129709Z",
     "start_time": "2024-01-20T20:41:51.116972Z"
    }
   },
   "outputs": [
    {
     "data": {
      "text/plain": [
       "array([[ 0,  8],\n",
       "       [ 0, 16]])"
      ]
     },
     "execution_count": 14,
     "metadata": {},
     "output_type": "execute_result"
    }
   ],
   "source": [
    "# Displaying using confusion matrix\n",
    "confusion_matrix(Y_test,Y_pred)"
   ]
  },
  {
   "cell_type": "code",
   "execution_count": 15,
   "id": "f712b2e2",
   "metadata": {
    "ExecuteTime": {
     "end_time": "2024-01-20T20:41:51.328781Z",
     "start_time": "2024-01-20T20:41:51.133635Z"
    }
   },
   "outputs": [
    {
     "name": "stdout",
     "output_type": "stream",
     "text": [
      "scores [0.75       0.75       0.66666667 0.66666667 0.66666667 0.66666667\n",
      " 0.72727273 0.72727273 0.72727273 0.72727273]\n"
     ]
    },
    {
     "data": {
      "text/plain": [
       "0.7075757575757576"
      ]
     },
     "execution_count": 15,
     "metadata": {},
     "output_type": "execute_result"
    }
   ],
   "source": [
    "log_reg_sc = cross_val_score(LogisticRegression(),X,Y,cv=10)\n",
    "\n",
    "print('scores', log_reg_sc)\n",
    "\n",
    "log_reg_sc.mean()"
   ]
  },
  {
   "cell_type": "code",
   "execution_count": 16,
   "id": "0451ad8e",
   "metadata": {
    "ExecuteTime": {
     "end_time": "2024-01-20T20:41:52.092280Z",
     "start_time": "2024-01-20T20:41:51.339127Z"
    }
   },
   "outputs": [
    {
     "name": "stdout",
     "output_type": "stream",
     "text": [
      "0.717391304347826\n"
     ]
    },
    {
     "data": {
      "text/plain": [
       "0.6666666666666666"
      ]
     },
     "execution_count": 16,
     "metadata": {},
     "output_type": "execute_result"
    }
   ],
   "source": [
    "basic_bag_model = BaggingClassifier(\n",
    "    estimator=LogisticRegression(),\n",
    "    n_estimators=100,\n",
    "    max_samples=.8,\n",
    "    oob_score=True,\n",
    "    random_state=0\n",
    ")\n",
    "\n",
    "basic_bag_model.fit(X_train,Y_train)\n",
    "\n",
    "print(basic_bag_model.oob_score_)\n",
    "\n",
    "basic_bag_model.score(X_test,Y_test)\n"
   ]
  },
  {
   "cell_type": "markdown",
   "id": "4f569370",
   "metadata": {
    "ExecuteTime": {
     "end_time": "2024-01-03T17:50:03.805242Z",
     "start_time": "2024-01-03T17:50:03.775001Z"
    }
   },
   "source": [
    "## Gradient Boosting Model \n"
   ]
  },
  {
   "cell_type": "code",
   "execution_count": 17,
   "id": "1463a20d",
   "metadata": {
    "ExecuteTime": {
     "end_time": "2024-01-20T20:41:52.163167Z",
     "start_time": "2024-01-20T20:41:52.098713Z"
    }
   },
   "outputs": [
    {
     "data": {
      "text/plain": [
       "0.6857142857142857"
      ]
     },
     "execution_count": 17,
     "metadata": {},
     "output_type": "execute_result"
    }
   ],
   "source": [
    "X_train,X_test,Y_train, Y_test = train_test_split(X,Y, test_size=0.3,stratify=Y, random_state=42)\n",
    "\n",
    "gbc = GradientBoostingClassifier(n_estimators=25, learning_rate=.1,max_depth=1, random_state=42).fit(X_train, Y_train)\n",
    "\n",
    "gbc.score(X_test, Y_test)"
   ]
  },
  {
   "cell_type": "code",
   "execution_count": 18,
   "id": "ef1b6600",
   "metadata": {
    "ExecuteTime": {
     "end_time": "2024-01-20T20:41:52.571034Z",
     "start_time": "2024-01-20T20:41:52.166839Z"
    }
   },
   "outputs": [
    {
     "name": "stdout",
     "output_type": "stream",
     "text": [
      "[0.75       0.75       0.41666667 0.5        0.58333333 0.66666667\n",
      " 0.45454545 0.72727273 0.72727273 0.72727273]\n",
      "0.6303030303030304\n"
     ]
    }
   ],
   "source": [
    "gbc_cv = cross_val_score(GradientBoostingClassifier(n_estimators=25, learning_rate=.1,max_depth=2,random_state=42),X,Y,cv=10)\n",
    "\n",
    "print(gbc_cv)\n",
    "print(gbc_cv.mean())"
   ]
  },
  {
   "cell_type": "code",
   "execution_count": null,
   "id": "48bbe922",
   "metadata": {
    "ExecuteTime": {
     "end_time": "2024-01-14T16:49:08.826869Z",
     "start_time": "2024-01-14T16:49:08.680767Z"
    }
   },
   "outputs": [],
   "source": []
  },
  {
   "cell_type": "markdown",
   "id": "30cdbd28",
   "metadata": {},
   "source": [
    "## DecisionTree Classifier "
   ]
  },
  {
   "cell_type": "code",
   "execution_count": 19,
   "id": "74096d81",
   "metadata": {
    "ExecuteTime": {
     "end_time": "2024-01-20T20:41:52.604058Z",
     "start_time": "2024-01-20T20:41:52.574302Z"
    }
   },
   "outputs": [],
   "source": [
    "X_train,X_test,Y_train, Y_test = train_test_split(X,Y, test_size=0.2,stratify=Y, random_state=42)\n"
   ]
  },
  {
   "cell_type": "code",
   "execution_count": 20,
   "id": "e1307f29",
   "metadata": {
    "ExecuteTime": {
     "end_time": "2024-01-20T20:41:52.729341Z",
     "start_time": "2024-01-20T20:41:52.616029Z"
    }
   },
   "outputs": [],
   "source": [
    "scores = cross_val_score(DecisionTreeClassifier(),X,Y,cv=10)"
   ]
  },
  {
   "cell_type": "code",
   "execution_count": 21,
   "id": "85f71a43",
   "metadata": {
    "ExecuteTime": {
     "end_time": "2024-01-20T20:41:52.750385Z",
     "start_time": "2024-01-20T20:41:52.732802Z"
    }
   },
   "outputs": [
    {
     "data": {
      "text/plain": [
       "array([0.41666667, 0.58333333, 0.58333333, 0.41666667, 0.33333333,\n",
       "       0.58333333, 0.45454545, 0.54545455, 0.45454545, 0.18181818])"
      ]
     },
     "execution_count": 21,
     "metadata": {},
     "output_type": "execute_result"
    }
   ],
   "source": [
    "scores"
   ]
  },
  {
   "cell_type": "code",
   "execution_count": 22,
   "id": "aad0c5e6",
   "metadata": {
    "ExecuteTime": {
     "end_time": "2024-01-20T20:41:52.786837Z",
     "start_time": "2024-01-20T20:41:52.753412Z"
    }
   },
   "outputs": [
    {
     "data": {
      "text/plain": [
       "0.45530303030303027"
      ]
     },
     "execution_count": 22,
     "metadata": {},
     "output_type": "execute_result"
    }
   ],
   "source": [
    "scores.mean()"
   ]
  },
  {
   "cell_type": "markdown",
   "id": "9a4795fa",
   "metadata": {},
   "source": [
    "## Bagging Classifier "
   ]
  },
  {
   "cell_type": "markdown",
   "id": "498d82f4",
   "metadata": {},
   "source": [
    "## Bagging Classifier & Decision Trees"
   ]
  },
  {
   "cell_type": "code",
   "execution_count": 23,
   "id": "3e95bd89",
   "metadata": {
    "ExecuteTime": {
     "end_time": "2024-01-20T20:41:53.185179Z",
     "start_time": "2024-01-20T20:41:52.794148Z"
    }
   },
   "outputs": [
    {
     "name": "stdout",
     "output_type": "stream",
     "text": [
      "0.5869565217391305\n"
     ]
    },
    {
     "data": {
      "text/plain": [
       "0.5833333333333334"
      ]
     },
     "execution_count": 23,
     "metadata": {},
     "output_type": "execute_result"
    }
   ],
   "source": [
    "basic_bag_model = BaggingClassifier(\n",
    "    estimator=DecisionTreeClassifier(),\n",
    "    n_estimators=100,\n",
    "    max_samples=.8,\n",
    "    oob_score=True,\n",
    "    random_state=0\n",
    ")\n",
    "\n",
    "basic_bag_model.fit(X_train,Y_train)\n",
    "\n",
    "print(basic_bag_model.oob_score_)\n",
    "\n",
    "basic_bag_model.score(X_test,Y_test)"
   ]
  },
  {
   "cell_type": "markdown",
   "id": "57aa8058",
   "metadata": {
    "ExecuteTime": {
     "end_time": "2024-01-13T21:57:21.076667Z",
     "start_time": "2024-01-13T21:57:21.047859Z"
    }
   },
   "source": [
    "## Bagging Classifier & Gradient Boosting "
   ]
  },
  {
   "cell_type": "code",
   "execution_count": 24,
   "id": "6a0d85ec",
   "metadata": {
    "ExecuteTime": {
     "end_time": "2024-01-20T20:41:55.265293Z",
     "start_time": "2024-01-20T20:41:53.194616Z"
    }
   },
   "outputs": [
    {
     "data": {
      "text/plain": [
       "0.7083333333333334"
      ]
     },
     "execution_count": 24,
     "metadata": {},
     "output_type": "execute_result"
    }
   ],
   "source": [
    "basic_bag_model = BaggingClassifier(\n",
    "    estimator=GradientBoostingClassifier(n_estimators=25, learning_rate=.1,max_depth=1, random_state=42),\n",
    "    n_estimators=100,\n",
    "    max_samples=.8,\n",
    "    oob_score=True,\n",
    "    random_state=0\n",
    ")\n",
    "\n",
    "basic_bag_model.fit(X_train,Y_train)\n",
    "\n",
    "basic_bag_model.score(X_test,Y_test)\n",
    "\n"
   ]
  },
  {
   "cell_type": "code",
   "execution_count": null,
   "id": "236e9954",
   "metadata": {},
   "outputs": [],
   "source": []
  }
 ],
 "metadata": {
  "kernelspec": {
   "display_name": "Python 3 (ipykernel)",
   "language": "python",
   "name": "python3"
  },
  "language_info": {
   "codemirror_mode": {
    "name": "ipython",
    "version": 3
   },
   "file_extension": ".py",
   "mimetype": "text/x-python",
   "name": "python",
   "nbconvert_exporter": "python",
   "pygments_lexer": "ipython3",
   "version": "3.9.2"
  }
 },
 "nbformat": 4,
 "nbformat_minor": 5
}
