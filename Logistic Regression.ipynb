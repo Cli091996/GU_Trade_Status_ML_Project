{
 "cells": [
  {
   "cell_type": "markdown",
   "id": "ae8e9657",
   "metadata": {},
   "source": [
    "### Import Libraries "
   ]
  },
  {
   "cell_type": "code",
   "execution_count": 1,
   "id": "d98cbd8a",
   "metadata": {},
   "outputs": [
    {
     "data": {
      "text/html": [
       "<style>.container { width:100% !important; }</style>"
      ],
      "text/plain": [
       "<IPython.core.display.HTML object>"
      ]
     },
     "metadata": {},
     "output_type": "display_data"
    }
   ],
   "source": [
    "import pandas as pd \n",
    "from matplotlib import pyplot as plt \n",
    "from sklearn.linear_model import LogisticRegression\n",
    "from sklearn.model_selection import train_test_split\n",
    "from sklearn.metrics import confusion_matrix\n",
    "from sklearn.metrics import accuracy_score, classification_report  # Import accuracy_score\n",
    "\n",
    "#formats\n",
    "from IPython.display import display, HTML\n",
    "pd.set_option('display.max_columns', None)\n",
    "display(HTML(\"<style>.container { width:100% !important; }</style>\"))"
   ]
  },
  {
   "cell_type": "markdown",
   "id": "60c529ee",
   "metadata": {},
   "source": [
    "### Import Dataset"
   ]
  },
  {
   "cell_type": "code",
   "execution_count": 2,
   "id": "b9702d08",
   "metadata": {},
   "outputs": [
    {
     "data": {
      "text/html": [
       "<div>\n",
       "<style scoped>\n",
       "    .dataframe tbody tr th:only-of-type {\n",
       "        vertical-align: middle;\n",
       "    }\n",
       "\n",
       "    .dataframe tbody tr th {\n",
       "        vertical-align: top;\n",
       "    }\n",
       "\n",
       "    .dataframe thead th {\n",
       "        text-align: right;\n",
       "    }\n",
       "</style>\n",
       "<table border=\"1\" class=\"dataframe\">\n",
       "  <thead>\n",
       "    <tr style=\"text-align: right;\">\n",
       "      <th></th>\n",
       "      <th>open</th>\n",
       "      <th>high</th>\n",
       "      <th>low</th>\n",
       "      <th>close</th>\n",
       "      <th>25EMA</th>\n",
       "      <th>50EMA</th>\n",
       "      <th>100EMA</th>\n",
       "      <th>125EMA</th>\n",
       "      <th>Ticker</th>\n",
       "      <th>Interval</th>\n",
       "      <th>Month</th>\n",
       "      <th>Year</th>\n",
       "      <th>Date</th>\n",
       "      <th>Primary_Key</th>\n",
       "      <th>Trend Status</th>\n",
       "      <th>Spread</th>\n",
       "      <th>Action</th>\n",
       "      <th>Opportunity</th>\n",
       "      <th>Order Type</th>\n",
       "      <th>Alerts</th>\n",
       "      <th>Index_Special</th>\n",
       "      <th>Alerts_Index</th>\n",
       "      <th>ROI Since Alert</th>\n",
       "      <th>Lowest Low</th>\n",
       "      <th>Highest High</th>\n",
       "      <th>Low Spread</th>\n",
       "      <th>High Spread</th>\n",
       "      <th>1D Trade Status</th>\n",
       "      <th>Consecutive Count</th>\n",
       "      <th>Trend Counter</th>\n",
       "    </tr>\n",
       "  </thead>\n",
       "  <tbody>\n",
       "    <tr>\n",
       "      <th>0</th>\n",
       "      <td>1.18855</td>\n",
       "      <td>1.18955</td>\n",
       "      <td>1.18845</td>\n",
       "      <td>1.18935</td>\n",
       "      <td>1.189350</td>\n",
       "      <td>1.189350</td>\n",
       "      <td>1.189350</td>\n",
       "      <td>1.189350</td>\n",
       "      <td>EUR/USD</td>\n",
       "      <td>4h</td>\n",
       "      <td>September</td>\n",
       "      <td>2020</td>\n",
       "      <td>2020-11-08 15:00:00</td>\n",
       "      <td>EUR/USD4h2020-11-08 15:00:00</td>\n",
       "      <td>Consolidating</td>\n",
       "      <td>0.000000</td>\n",
       "      <td>NaN</td>\n",
       "      <td>Suboptimal</td>\n",
       "      <td>NaN</td>\n",
       "      <td>0</td>\n",
       "      <td>NaN</td>\n",
       "      <td>0</td>\n",
       "      <td>0.0</td>\n",
       "      <td>NaN</td>\n",
       "      <td>NaN</td>\n",
       "      <td>NaN</td>\n",
       "      <td>NaN</td>\n",
       "      <td>0</td>\n",
       "      <td>0.0</td>\n",
       "      <td>1.0</td>\n",
       "    </tr>\n",
       "    <tr>\n",
       "      <th>1</th>\n",
       "      <td>1.18925</td>\n",
       "      <td>1.18955</td>\n",
       "      <td>1.18805</td>\n",
       "      <td>1.18920</td>\n",
       "      <td>1.189338</td>\n",
       "      <td>1.189344</td>\n",
       "      <td>1.189347</td>\n",
       "      <td>1.189348</td>\n",
       "      <td>EUR/USD</td>\n",
       "      <td>4h</td>\n",
       "      <td>September</td>\n",
       "      <td>2020</td>\n",
       "      <td>2020-11-08 19:00:00</td>\n",
       "      <td>EUR/USD4h2020-11-08 19:00:00</td>\n",
       "      <td>Bearish</td>\n",
       "      <td>0.000006</td>\n",
       "      <td>NaN</td>\n",
       "      <td>Optimal</td>\n",
       "      <td>NaN</td>\n",
       "      <td>0</td>\n",
       "      <td>NaN</td>\n",
       "      <td>0</td>\n",
       "      <td>0.0</td>\n",
       "      <td>NaN</td>\n",
       "      <td>NaN</td>\n",
       "      <td>NaN</td>\n",
       "      <td>NaN</td>\n",
       "      <td>0</td>\n",
       "      <td>0.0</td>\n",
       "      <td>1.0</td>\n",
       "    </tr>\n",
       "    <tr>\n",
       "      <th>2</th>\n",
       "      <td>1.18915</td>\n",
       "      <td>1.18995</td>\n",
       "      <td>1.18800</td>\n",
       "      <td>1.18885</td>\n",
       "      <td>1.189301</td>\n",
       "      <td>1.189325</td>\n",
       "      <td>1.189337</td>\n",
       "      <td>1.189340</td>\n",
       "      <td>EUR/USD</td>\n",
       "      <td>4h</td>\n",
       "      <td>September</td>\n",
       "      <td>2020</td>\n",
       "      <td>2020-11-08 23:00:00</td>\n",
       "      <td>EUR/USD4h2020-11-08 23:00:00</td>\n",
       "      <td>Bearish</td>\n",
       "      <td>0.000024</td>\n",
       "      <td>NaN</td>\n",
       "      <td>Optimal</td>\n",
       "      <td>NaN</td>\n",
       "      <td>0</td>\n",
       "      <td>NaN</td>\n",
       "      <td>0</td>\n",
       "      <td>0.0</td>\n",
       "      <td>NaN</td>\n",
       "      <td>NaN</td>\n",
       "      <td>NaN</td>\n",
       "      <td>NaN</td>\n",
       "      <td>0</td>\n",
       "      <td>0.0</td>\n",
       "      <td>2.0</td>\n",
       "    </tr>\n",
       "    <tr>\n",
       "      <th>3</th>\n",
       "      <td>1.18845</td>\n",
       "      <td>1.19005</td>\n",
       "      <td>1.18605</td>\n",
       "      <td>1.18865</td>\n",
       "      <td>1.189251</td>\n",
       "      <td>1.189298</td>\n",
       "      <td>1.189324</td>\n",
       "      <td>1.189329</td>\n",
       "      <td>EUR/USD</td>\n",
       "      <td>4h</td>\n",
       "      <td>September</td>\n",
       "      <td>2020</td>\n",
       "      <td>2020-11-09 03:00:00</td>\n",
       "      <td>EUR/USD4h2020-11-09 03:00:00</td>\n",
       "      <td>Bearish</td>\n",
       "      <td>0.000047</td>\n",
       "      <td>NaN</td>\n",
       "      <td>Optimal</td>\n",
       "      <td>NaN</td>\n",
       "      <td>0</td>\n",
       "      <td>NaN</td>\n",
       "      <td>0</td>\n",
       "      <td>0.0</td>\n",
       "      <td>NaN</td>\n",
       "      <td>NaN</td>\n",
       "      <td>NaN</td>\n",
       "      <td>NaN</td>\n",
       "      <td>0</td>\n",
       "      <td>0.0</td>\n",
       "      <td>3.0</td>\n",
       "    </tr>\n",
       "    <tr>\n",
       "      <th>4</th>\n",
       "      <td>1.18860</td>\n",
       "      <td>1.19205</td>\n",
       "      <td>1.18145</td>\n",
       "      <td>1.18300</td>\n",
       "      <td>1.188770</td>\n",
       "      <td>1.189051</td>\n",
       "      <td>1.189198</td>\n",
       "      <td>1.189228</td>\n",
       "      <td>EUR/USD</td>\n",
       "      <td>4h</td>\n",
       "      <td>September</td>\n",
       "      <td>2020</td>\n",
       "      <td>2020-11-09 07:00:00</td>\n",
       "      <td>EUR/USD4h2020-11-09 07:00:00</td>\n",
       "      <td>Bearish</td>\n",
       "      <td>0.000281</td>\n",
       "      <td>NaN</td>\n",
       "      <td>Optimal</td>\n",
       "      <td>NaN</td>\n",
       "      <td>0</td>\n",
       "      <td>NaN</td>\n",
       "      <td>0</td>\n",
       "      <td>0.0</td>\n",
       "      <td>NaN</td>\n",
       "      <td>NaN</td>\n",
       "      <td>NaN</td>\n",
       "      <td>NaN</td>\n",
       "      <td>0</td>\n",
       "      <td>0.0</td>\n",
       "      <td>4.0</td>\n",
       "    </tr>\n",
       "  </tbody>\n",
       "</table>\n",
       "</div>"
      ],
      "text/plain": [
       "      open     high      low    close     25EMA     50EMA    100EMA    125EMA   \n",
       "0  1.18855  1.18955  1.18845  1.18935  1.189350  1.189350  1.189350  1.189350  \\\n",
       "1  1.18925  1.18955  1.18805  1.18920  1.189338  1.189344  1.189347  1.189348   \n",
       "2  1.18915  1.18995  1.18800  1.18885  1.189301  1.189325  1.189337  1.189340   \n",
       "3  1.18845  1.19005  1.18605  1.18865  1.189251  1.189298  1.189324  1.189329   \n",
       "4  1.18860  1.19205  1.18145  1.18300  1.188770  1.189051  1.189198  1.189228   \n",
       "\n",
       "    Ticker Interval      Month  Year                 Date   \n",
       "0  EUR/USD       4h  September  2020  2020-11-08 15:00:00  \\\n",
       "1  EUR/USD       4h  September  2020  2020-11-08 19:00:00   \n",
       "2  EUR/USD       4h  September  2020  2020-11-08 23:00:00   \n",
       "3  EUR/USD       4h  September  2020  2020-11-09 03:00:00   \n",
       "4  EUR/USD       4h  September  2020  2020-11-09 07:00:00   \n",
       "\n",
       "                    Primary_Key   Trend Status    Spread Action Opportunity   \n",
       "0  EUR/USD4h2020-11-08 15:00:00  Consolidating  0.000000    NaN  Suboptimal  \\\n",
       "1  EUR/USD4h2020-11-08 19:00:00        Bearish  0.000006    NaN     Optimal   \n",
       "2  EUR/USD4h2020-11-08 23:00:00        Bearish  0.000024    NaN     Optimal   \n",
       "3  EUR/USD4h2020-11-09 03:00:00        Bearish  0.000047    NaN     Optimal   \n",
       "4  EUR/USD4h2020-11-09 07:00:00        Bearish  0.000281    NaN     Optimal   \n",
       "\n",
       "  Order Type  Alerts  Index_Special  Alerts_Index  ROI Since Alert   \n",
       "0        NaN       0            NaN             0              0.0  \\\n",
       "1        NaN       0            NaN             0              0.0   \n",
       "2        NaN       0            NaN             0              0.0   \n",
       "3        NaN       0            NaN             0              0.0   \n",
       "4        NaN       0            NaN             0              0.0   \n",
       "\n",
       "   Lowest Low  Highest High  Low Spread  High Spread  1D Trade Status   \n",
       "0         NaN           NaN         NaN          NaN                0  \\\n",
       "1         NaN           NaN         NaN          NaN                0   \n",
       "2         NaN           NaN         NaN          NaN                0   \n",
       "3         NaN           NaN         NaN          NaN                0   \n",
       "4         NaN           NaN         NaN          NaN                0   \n",
       "\n",
       "   Consecutive Count  Trend Counter  \n",
       "0                0.0            1.0  \n",
       "1                0.0            1.0  \n",
       "2                0.0            2.0  \n",
       "3                0.0            3.0  \n",
       "4                0.0            4.0  "
      ]
     },
     "execution_count": 2,
     "metadata": {},
     "output_type": "execute_result"
    }
   ],
   "source": [
    "df = pd.read_csv('/home/clivence/base_jupyter/Datadump/Master_data.csv')\n",
    "df.head()"
   ]
  },
  {
   "cell_type": "markdown",
   "id": "0d8f7a4c",
   "metadata": {},
   "source": [
    "### Data Cleaning"
   ]
  },
  {
   "cell_type": "code",
   "execution_count": 3,
   "id": "0cab67ed",
   "metadata": {},
   "outputs": [],
   "source": [
    "#Subset for trades\n",
    "df = df[df['Alerts'] ==1] \n",
    "df = df[df['Action'] == 'Ultimate Action']\n",
    "df = df[df['Ticker'] == 'EUR/USD']\n",
    "\n",
    "\n",
    "#Removed features\n",
    "df= df[['open', 'high', 'low', 'close', '25EMA', '50EMA', '100EMA', '125EMA',\n",
    "        'Trend Status', 'Spread', 'Action', 'Opportunity', 'Order Type','Low Spread', 'High Spread', 'Trend Counter','1D Trade Status']]\n",
    "\n",
    "#Apply one-hot encoding \n",
    "df= pd.get_dummies(df,columns=['Trend Status','Opportunity', 'Order Type'])"
   ]
  },
  {
   "cell_type": "code",
   "execution_count": 4,
   "id": "3a044dba",
   "metadata": {},
   "outputs": [
    {
     "data": {
      "text/html": [
       "<div>\n",
       "<style scoped>\n",
       "    .dataframe tbody tr th:only-of-type {\n",
       "        vertical-align: middle;\n",
       "    }\n",
       "\n",
       "    .dataframe tbody tr th {\n",
       "        vertical-align: top;\n",
       "    }\n",
       "\n",
       "    .dataframe thead th {\n",
       "        text-align: right;\n",
       "    }\n",
       "</style>\n",
       "<table border=\"1\" class=\"dataframe\">\n",
       "  <thead>\n",
       "    <tr style=\"text-align: right;\">\n",
       "      <th></th>\n",
       "      <th>open</th>\n",
       "      <th>high</th>\n",
       "      <th>low</th>\n",
       "      <th>close</th>\n",
       "      <th>25EMA</th>\n",
       "      <th>50EMA</th>\n",
       "      <th>100EMA</th>\n",
       "      <th>125EMA</th>\n",
       "      <th>Spread</th>\n",
       "      <th>Action</th>\n",
       "      <th>Low Spread</th>\n",
       "      <th>High Spread</th>\n",
       "      <th>Trend Counter</th>\n",
       "      <th>1D Trade Status</th>\n",
       "      <th>Trend Status_Bearish</th>\n",
       "      <th>Trend Status_Bullish</th>\n",
       "      <th>Opportunity_Optimal</th>\n",
       "      <th>Opportunity_Unfavorable</th>\n",
       "      <th>Order Type_BUY</th>\n",
       "      <th>Order Type_SELL</th>\n",
       "    </tr>\n",
       "  </thead>\n",
       "  <tbody>\n",
       "    <tr>\n",
       "      <th>31</th>\n",
       "      <td>1.18440</td>\n",
       "      <td>1.1849</td>\n",
       "      <td>1.18340</td>\n",
       "      <td>1.18445</td>\n",
       "      <td>1.182063</td>\n",
       "      <td>1.183700</td>\n",
       "      <td>1.185724</td>\n",
       "      <td>1.186293</td>\n",
       "      <td>0.001637</td>\n",
       "      <td>Ultimate Action</td>\n",
       "      <td>0.00300</td>\n",
       "      <td>0.00495</td>\n",
       "      <td>31.0</td>\n",
       "      <td>0</td>\n",
       "      <td>True</td>\n",
       "      <td>False</td>\n",
       "      <td>False</td>\n",
       "      <td>True</td>\n",
       "      <td>False</td>\n",
       "      <td>True</td>\n",
       "    </tr>\n",
       "    <tr>\n",
       "      <th>36</th>\n",
       "      <td>1.18355</td>\n",
       "      <td>1.1847</td>\n",
       "      <td>1.18350</td>\n",
       "      <td>1.18420</td>\n",
       "      <td>1.182777</td>\n",
       "      <td>1.183801</td>\n",
       "      <td>1.185586</td>\n",
       "      <td>1.186138</td>\n",
       "      <td>0.001024</td>\n",
       "      <td>Ultimate Action</td>\n",
       "      <td>0.00000</td>\n",
       "      <td>0.00520</td>\n",
       "      <td>36.0</td>\n",
       "      <td>0</td>\n",
       "      <td>True</td>\n",
       "      <td>False</td>\n",
       "      <td>False</td>\n",
       "      <td>True</td>\n",
       "      <td>False</td>\n",
       "      <td>True</td>\n",
       "    </tr>\n",
       "    <tr>\n",
       "      <th>141</th>\n",
       "      <td>1.20820</td>\n",
       "      <td>1.2085</td>\n",
       "      <td>1.20590</td>\n",
       "      <td>1.20720</td>\n",
       "      <td>1.210488</td>\n",
       "      <td>1.207215</td>\n",
       "      <td>1.201275</td>\n",
       "      <td>1.199344</td>\n",
       "      <td>0.003273</td>\n",
       "      <td>Ultimate Action</td>\n",
       "      <td>0.00005</td>\n",
       "      <td>0.00915</td>\n",
       "      <td>97.0</td>\n",
       "      <td>1</td>\n",
       "      <td>False</td>\n",
       "      <td>True</td>\n",
       "      <td>True</td>\n",
       "      <td>False</td>\n",
       "      <td>True</td>\n",
       "      <td>False</td>\n",
       "    </tr>\n",
       "    <tr>\n",
       "      <th>189</th>\n",
       "      <td>1.21765</td>\n",
       "      <td>1.2227</td>\n",
       "      <td>1.21305</td>\n",
       "      <td>1.21620</td>\n",
       "      <td>1.220249</td>\n",
       "      <td>1.217388</td>\n",
       "      <td>1.211675</td>\n",
       "      <td>1.209294</td>\n",
       "      <td>0.002861</td>\n",
       "      <td>Ultimate Action</td>\n",
       "      <td>0.00095</td>\n",
       "      <td>0.00950</td>\n",
       "      <td>145.0</td>\n",
       "      <td>1</td>\n",
       "      <td>False</td>\n",
       "      <td>True</td>\n",
       "      <td>True</td>\n",
       "      <td>False</td>\n",
       "      <td>True</td>\n",
       "      <td>False</td>\n",
       "    </tr>\n",
       "    <tr>\n",
       "      <th>196</th>\n",
       "      <td>1.22440</td>\n",
       "      <td>1.2257</td>\n",
       "      <td>1.21655</td>\n",
       "      <td>1.21735</td>\n",
       "      <td>1.221048</td>\n",
       "      <td>1.218565</td>\n",
       "      <td>1.213057</td>\n",
       "      <td>1.210668</td>\n",
       "      <td>0.002483</td>\n",
       "      <td>Ultimate Action</td>\n",
       "      <td>0.00210</td>\n",
       "      <td>0.00470</td>\n",
       "      <td>152.0</td>\n",
       "      <td>1</td>\n",
       "      <td>False</td>\n",
       "      <td>True</td>\n",
       "      <td>True</td>\n",
       "      <td>False</td>\n",
       "      <td>True</td>\n",
       "      <td>False</td>\n",
       "    </tr>\n",
       "  </tbody>\n",
       "</table>\n",
       "</div>"
      ],
      "text/plain": [
       "        open    high      low    close     25EMA     50EMA    100EMA   \n",
       "31   1.18440  1.1849  1.18340  1.18445  1.182063  1.183700  1.185724  \\\n",
       "36   1.18355  1.1847  1.18350  1.18420  1.182777  1.183801  1.185586   \n",
       "141  1.20820  1.2085  1.20590  1.20720  1.210488  1.207215  1.201275   \n",
       "189  1.21765  1.2227  1.21305  1.21620  1.220249  1.217388  1.211675   \n",
       "196  1.22440  1.2257  1.21655  1.21735  1.221048  1.218565  1.213057   \n",
       "\n",
       "       125EMA    Spread           Action  Low Spread  High Spread   \n",
       "31   1.186293  0.001637  Ultimate Action     0.00300      0.00495  \\\n",
       "36   1.186138  0.001024  Ultimate Action     0.00000      0.00520   \n",
       "141  1.199344  0.003273  Ultimate Action     0.00005      0.00915   \n",
       "189  1.209294  0.002861  Ultimate Action     0.00095      0.00950   \n",
       "196  1.210668  0.002483  Ultimate Action     0.00210      0.00470   \n",
       "\n",
       "     Trend Counter  1D Trade Status  Trend Status_Bearish   \n",
       "31            31.0                0                  True  \\\n",
       "36            36.0                0                  True   \n",
       "141           97.0                1                 False   \n",
       "189          145.0                1                 False   \n",
       "196          152.0                1                 False   \n",
       "\n",
       "     Trend Status_Bullish  Opportunity_Optimal  Opportunity_Unfavorable   \n",
       "31                  False                False                     True  \\\n",
       "36                  False                False                     True   \n",
       "141                  True                 True                    False   \n",
       "189                  True                 True                    False   \n",
       "196                  True                 True                    False   \n",
       "\n",
       "     Order Type_BUY  Order Type_SELL  \n",
       "31            False             True  \n",
       "36            False             True  \n",
       "141            True            False  \n",
       "189            True            False  \n",
       "196            True            False  "
      ]
     },
     "execution_count": 4,
     "metadata": {},
     "output_type": "execute_result"
    }
   ],
   "source": [
    "df.head()"
   ]
  },
  {
   "cell_type": "code",
   "execution_count": 5,
   "id": "fe38ed4d",
   "metadata": {},
   "outputs": [
    {
     "data": {
      "text/plain": [
       "Index(['open', 'high', 'low', 'close', '25EMA', '50EMA', '100EMA', '125EMA',\n",
       "       'Spread', 'Action', 'Low Spread', 'High Spread', 'Trend Counter',\n",
       "       '1D Trade Status', 'Trend Status_Bearish', 'Trend Status_Bullish',\n",
       "       'Opportunity_Optimal', 'Opportunity_Unfavorable', 'Order Type_BUY',\n",
       "       'Order Type_SELL'],\n",
       "      dtype='object')"
      ]
     },
     "execution_count": 5,
     "metadata": {},
     "output_type": "execute_result"
    }
   ],
   "source": [
    "df.columns"
   ]
  },
  {
   "cell_type": "code",
   "execution_count": 6,
   "id": "597f487f",
   "metadata": {},
   "outputs": [
    {
     "data": {
      "image/png": "[encoded data removed]",
      "text/plain": [
       "<Figure size 640x480 with 1 Axes>"
      ]
     },
     "metadata": {},
     "output_type": "display_data"
    }
   ],
   "source": [
    "#Create a scatter plot of the target variable \n",
    "plt.scatter(x=df['close'],y=df['1D Trade Status'], c=df['1D Trade Status'], cmap='rainbow')\n",
    "plt.title('Scatter Plot of Trades Results for Logistic Regression')\n",
    "plt.show()"
   ]
  },
  {
   "cell_type": "markdown",
   "id": "1e7518ea",
   "metadata": {},
   "source": [
    "### Split Data: Training & Test Data"
   ]
  },
  {
   "cell_type": "code",
   "execution_count": 7,
   "id": "8753e70b",
   "metadata": {},
   "outputs": [],
   "source": [
    "#Indepedent Variables \n",
    "X = df[['open', 'high', 'low', 'close', '25EMA', '50EMA', '100EMA', '125EMA',\n",
    "        'Spread','Low Spread', 'High Spread', 'Trend Counter','Trend Status_Bearish', 'Trend Status_Bullish',\n",
    "       'Opportunity_Optimal', 'Opportunity_Unfavorable', 'Order Type_BUY',\n",
    "       'Order Type_SELL']]\n",
    "#Dependent Variable\n",
    "Y = df['1D Trade Status'] "
   ]
  },
  {
   "cell_type": "code",
   "execution_count": 8,
   "id": "14d1aeb4",
   "metadata": {},
   "outputs": [],
   "source": [
    "X_train,X_test,Y_train, Y_test = train_test_split(X,Y, test_size=0.3, random_state=42)"
   ]
  },
  {
   "cell_type": "markdown",
   "id": "6fb67037",
   "metadata": {},
   "source": [
    "### Algoritm Selection "
   ]
  },
  {
   "cell_type": "code",
   "execution_count": 9,
   "id": "3f80c0fa",
   "metadata": {},
   "outputs": [
    {
     "data": {
      "text/html": [
       "<style>#sk-container-id-1 {color: black;}#sk-container-id-1 pre{padding: 0;}#sk-container-id-1 div.sk-toggleable {background-color: white;}#sk-container-id-1 label.sk-toggleable__label {cursor: pointer;display: block;width: 100%;margin-bottom: 0;padding: 0.3em;box-sizing: border-box;text-align: center;}#sk-container-id-1 label.sk-toggleable__label-arrow:before {content: \"▸\";float: left;margin-right: 0.25em;color: #696969;}#sk-container-id-1 label.sk-toggleable__label-arrow:hover:before {color: black;}#sk-container-id-1 div.sk-estimator:hover label.sk-toggleable__label-arrow:before {color: black;}#sk-container-id-1 div.sk-toggleable__content {max-height: 0;max-width: 0;overflow: hidden;text-align: left;background-color: #f0f8ff;}#sk-container-id-1 div.sk-toggleable__content pre {margin: 0.2em;color: black;border-radius: 0.25em;background-color: #f0f8ff;}#sk-container-id-1 input.sk-toggleable__control:checked~div.sk-toggleable__content {max-height: 200px;max-width: 100%;overflow: auto;}#sk-container-id-1 input.sk-toggleable__control:checked~label.sk-toggleable__label-arrow:before {content: \"▾\";}#sk-container-id-1 div.sk-estimator input.sk-toggleable__control:checked~label.sk-toggleable__label {background-color: #d4ebff;}#sk-container-id-1 div.sk-label input.sk-toggleable__control:checked~label.sk-toggleable__label {background-color: #d4ebff;}#sk-container-id-1 input.sk-hidden--visually {border: 0;clip: rect(1px 1px 1px 1px);clip: rect(1px, 1px, 1px, 1px);height: 1px;margin: -1px;overflow: hidden;padding: 0;position: absolute;width: 1px;}#sk-container-id-1 div.sk-estimator {font-family: monospace;background-color: #f0f8ff;border: 1px dotted black;border-radius: 0.25em;box-sizing: border-box;margin-bottom: 0.5em;}#sk-container-id-1 div.sk-estimator:hover {background-color: #d4ebff;}#sk-container-id-1 div.sk-parallel-item::after {content: \"\";width: 100%;border-bottom: 1px solid gray;flex-grow: 1;}#sk-container-id-1 div.sk-label:hover label.sk-toggleable__label {background-color: #d4ebff;}#sk-container-id-1 div.sk-serial::before {content: \"\";position: absolute;border-left: 1px solid gray;box-sizing: border-box;top: 0;bottom: 0;left: 50%;z-index: 0;}#sk-container-id-1 div.sk-serial {display: flex;flex-direction: column;align-items: center;background-color: white;padding-right: 0.2em;padding-left: 0.2em;position: relative;}#sk-container-id-1 div.sk-item {position: relative;z-index: 1;}#sk-container-id-1 div.sk-parallel {display: flex;align-items: stretch;justify-content: center;background-color: white;position: relative;}#sk-container-id-1 div.sk-item::before, #sk-container-id-1 div.sk-parallel-item::before {content: \"\";position: absolute;border-left: 1px solid gray;box-sizing: border-box;top: 0;bottom: 0;left: 50%;z-index: -1;}#sk-container-id-1 div.sk-parallel-item {display: flex;flex-direction: column;z-index: 1;position: relative;background-color: white;}#sk-container-id-1 div.sk-parallel-item:first-child::after {align-self: flex-end;width: 50%;}#sk-container-id-1 div.sk-parallel-item:last-child::after {align-self: flex-start;width: 50%;}#sk-container-id-1 div.sk-parallel-item:only-child::after {width: 0;}#sk-container-id-1 div.sk-dashed-wrapped {border: 1px dashed gray;margin: 0 0.4em 0.5em 0.4em;box-sizing: border-box;padding-bottom: 0.4em;background-color: white;}#sk-container-id-1 div.sk-label label {font-family: monospace;font-weight: bold;display: inline-block;line-height: 1.2em;}#sk-container-id-1 div.sk-label-container {text-align: center;}#sk-container-id-1 div.sk-container {/* jupyter's `normalize.less` sets `[hidden] { display: none; }` but bootstrap.min.css set `[hidden] { display: none !important; }` so we also need the `!important` here to be able to override the default hidden behavior on the sphinx rendered scikit-learn.org. See: https://github.com/scikit-learn/scikit-learn/issues/21755 */display: inline-block !important;position: relative;}#sk-container-id-1 div.sk-text-repr-fallback {display: none;}</style><div id=\"sk-container-id-1\" class=\"sk-top-container\"><div class=\"sk-text-repr-fallback\"><pre>LogisticRegression()</pre><b>In a Jupyter environment, please rerun this cell to show the HTML representation or trust the notebook. <br />On GitHub, the HTML representation is unable to render, please try loading this page with nbviewer.org.</b></div><div class=\"sk-container\" hidden><div class=\"sk-item\"><div class=\"sk-estimator sk-toggleable\"><input class=\"sk-toggleable__control sk-hidden--visually\" id=\"sk-estimator-id-1\" type=\"checkbox\" checked><label for=\"sk-estimator-id-1\" class=\"sk-toggleable__label sk-toggleable__label-arrow\">LogisticRegression</label><div class=\"sk-toggleable__content\"><pre>LogisticRegression()</pre></div></div></div></div></div>"
      ],
      "text/plain": [
       "LogisticRegression()"
      ]
     },
     "execution_count": 9,
     "metadata": {},
     "output_type": "execute_result"
    }
   ],
   "source": [
    "model = LogisticRegression()\n",
    "model.fit(X_train, Y_train)"
   ]
  },
  {
   "cell_type": "code",
   "execution_count": 10,
   "id": "08bd9f2a",
   "metadata": {},
   "outputs": [],
   "source": [
    "Y_pred = model.predict(X_test)"
   ]
  },
  {
   "cell_type": "markdown",
   "id": "c311499f",
   "metadata": {},
   "source": [
    "### Evaluate Results "
   ]
  },
  {
   "cell_type": "code",
   "execution_count": 11,
   "id": "7e90c7e0",
   "metadata": {},
   "outputs": [
    {
     "name": "stderr",
     "output_type": "stream",
     "text": [
      "/home/clivence/base_jupyter/venv/lib/python3.9/site-packages/sklearn/metrics/_classification.py:1469: UndefinedMetricWarning: Precision and F-score are ill-defined and being set to 0.0 in labels with no predicted samples. Use `zero_division` parameter to control this behavior.\n",
      "  _warn_prf(average, modifier, msg_start, len(result))\n",
      "/home/clivence/base_jupyter/venv/lib/python3.9/site-packages/sklearn/metrics/_classification.py:1469: UndefinedMetricWarning: Precision and F-score are ill-defined and being set to 0.0 in labels with no predicted samples. Use `zero_division` parameter to control this behavior.\n",
      "  _warn_prf(average, modifier, msg_start, len(result))\n",
      "/home/clivence/base_jupyter/venv/lib/python3.9/site-packages/sklearn/metrics/_classification.py:1469: UndefinedMetricWarning: Precision and F-score are ill-defined and being set to 0.0 in labels with no predicted samples. Use `zero_division` parameter to control this behavior.\n",
      "  _warn_prf(average, modifier, msg_start, len(result))\n"
     ]
    }
   ],
   "source": [
    "accuracy = accuracy_score(Y_test,Y_pred)\n",
    "classification_rep =classification_report(Y_test,Y_pred)"
   ]
  },
  {
   "cell_type": "code",
   "execution_count": 12,
   "id": "b9ac4916",
   "metadata": {},
   "outputs": [
    {
     "name": "stdout",
     "output_type": "stream",
     "text": [
      "Accuracy: 0.7333333333333333\n",
      "\n",
      "Classfication Report:\n",
      "               precision    recall  f1-score   support\n",
      "\n",
      "           0       0.00      0.00      0.00         8\n",
      "           1       0.73      1.00      0.85        22\n",
      "\n",
      "    accuracy                           0.73        30\n",
      "   macro avg       0.37      0.50      0.42        30\n",
      "weighted avg       0.54      0.73      0.62        30\n",
      "\n"
     ]
    }
   ],
   "source": [
    "print(f\"Accuracy:\", accuracy)\n",
    "print(f\"\\nClassfication Report:\\n\",classification_rep )"
   ]
  },
  {
   "cell_type": "code",
   "execution_count": 13,
   "id": "ad8c6ad6",
   "metadata": {},
   "outputs": [
    {
     "data": {
      "text/plain": [
       "array([[ 0,  8],\n",
       "       [ 0, 22]])"
      ]
     },
     "execution_count": 13,
     "metadata": {},
     "output_type": "execute_result"
    }
   ],
   "source": [
    "# Displaying using confusion matrix\n",
    "confusion_matrix(Y_test,Y_pred)"
   ]
  }
 ],
 "metadata": {
  "kernelspec": {
   "display_name": "Python 3 (ipykernel)",
   "language": "python",
   "name": "python3"
  },
  "language_info": {
   "codemirror_mode": {
    "name": "ipython",
    "version": 3
   },
   "file_extension": ".py",
   "mimetype": "text/x-python",
   "name": "python",
   "nbconvert_exporter": "python",
   "pygments_lexer": "ipython3",
   "version": "3.9.2"
  }
 },
 "nbformat": 4,
 "nbformat_minor": 5
}
